{
 "cells": [
  {
   "cell_type": "markdown",
   "metadata": {},
   "source": [
    "# Did Russia win the 2016 US elections ?"
   ]
  },
  {
   "cell_type": "markdown",
   "metadata": {},
   "source": [
    "## 1. Introduction [see readme]\n",
    "\n",
    "## 2. Main politics-related events during the elections [see readme]"
   ]
  },
  {
   "cell_type": "markdown",
   "metadata": {},
   "source": [
    "## 3. Import needed for the project"
   ]
  },
  {
   "cell_type": "code",
   "execution_count": 1,
   "metadata": {},
   "outputs": [],
   "source": [
    "import pandas as pd \n",
    "import glob\n",
    "import os\n",
    "import numpy as np\n",
    "import numpy.matlib\n",
    "import datetime\n",
    "import re\n",
    "import matplotlib.pyplot as plt\n",
    "from nltk import word_tokenize\n",
    "from nltk.stem import PorterStemmer\n",
    "PATH_DATA = \"../data\""
   ]
  },
  {
   "cell_type": "markdown",
   "metadata": {},
   "source": [
    "## 4. Dataset description\n",
    "\n",
    "The datasets are available at the follwing URL :\n",
    "* https://www.kaggle.com/fivethirtyeight/russian-troll-tweets : Dataset used at the beginning. Mainly used for development.\n",
    "* https://drive.google.com/open?id=1GBsVXYvPrGcYI-wR4mWGO39fly1TMqjO : Bigger datasets which is entirely dedicated to the US elections, and allow much more meaningful results.\n",
    "* https://www.kaggle.com/fivethirtyeight/2016-election-polls/home : Dataset corresponding to a voter survey between November 2015 and November 2016. We are not sure to use it for the moment.\n",
    "\n",
    "### 4.1. Small dataset from kaggle\n",
    "\n",
    "#### 4.1.1. Loading the dataset"
   ]
  },
  {
   "cell_type": "code",
   "execution_count": 4,
   "metadata": {},
   "outputs": [
    {
     "name": "stdout",
     "output_type": "stream",
     "text": [
      "******************************************************************\n",
      "The shape of the whole dataframe is the following : (2973371, 15)\n",
      "******************************************************************\n"
     ]
    },
    {
     "data": {
      "text/html": [
       "<div>\n",
       "<style scoped>\n",
       "    .dataframe tbody tr th:only-of-type {\n",
       "        vertical-align: middle;\n",
       "    }\n",
       "\n",
       "    .dataframe tbody tr th {\n",
       "        vertical-align: top;\n",
       "    }\n",
       "\n",
       "    .dataframe thead th {\n",
       "        text-align: right;\n",
       "    }\n",
       "</style>\n",
       "<table border=\"1\" class=\"dataframe\">\n",
       "  <thead>\n",
       "    <tr style=\"text-align: right;\">\n",
       "      <th></th>\n",
       "      <th>external_author_id</th>\n",
       "      <th>author</th>\n",
       "      <th>content</th>\n",
       "      <th>region</th>\n",
       "      <th>language</th>\n",
       "      <th>publish_date</th>\n",
       "      <th>harvested_date</th>\n",
       "      <th>following</th>\n",
       "      <th>followers</th>\n",
       "      <th>updates</th>\n",
       "      <th>post_type</th>\n",
       "      <th>account_type</th>\n",
       "      <th>new_june_2018</th>\n",
       "      <th>retweet</th>\n",
       "      <th>account_category</th>\n",
       "    </tr>\n",
       "  </thead>\n",
       "  <tbody>\n",
       "    <tr>\n",
       "      <th>0</th>\n",
       "      <td>1.674084e+09</td>\n",
       "      <td>GAB1ALDANA</td>\n",
       "      <td>People are too toxic. I think I have people po...</td>\n",
       "      <td>United States</td>\n",
       "      <td>English</td>\n",
       "      <td>7/30/2016 20:15</td>\n",
       "      <td>7/30/2016 20:15</td>\n",
       "      <td>3395</td>\n",
       "      <td>2014</td>\n",
       "      <td>2150</td>\n",
       "      <td>RETWEET</td>\n",
       "      <td>Hashtager</td>\n",
       "      <td>0</td>\n",
       "      <td>1</td>\n",
       "      <td>HashtagGamer</td>\n",
       "    </tr>\n",
       "    <tr>\n",
       "      <th>1</th>\n",
       "      <td>1.674084e+09</td>\n",
       "      <td>GAB1ALDANA</td>\n",
       "      <td>#NowPlaying Don't Shoot (I'm a Man) by @DEVO -...</td>\n",
       "      <td>United States</td>\n",
       "      <td>English</td>\n",
       "      <td>7/30/2016 20:15</td>\n",
       "      <td>7/30/2016 20:15</td>\n",
       "      <td>3395</td>\n",
       "      <td>2014</td>\n",
       "      <td>2146</td>\n",
       "      <td>RETWEET</td>\n",
       "      <td>Hashtager</td>\n",
       "      <td>0</td>\n",
       "      <td>1</td>\n",
       "      <td>HashtagGamer</td>\n",
       "    </tr>\n",
       "    <tr>\n",
       "      <th>2</th>\n",
       "      <td>1.674084e+09</td>\n",
       "      <td>GAB1ALDANA</td>\n",
       "      <td>the 'I'm the most boring person in the world' ...</td>\n",
       "      <td>United States</td>\n",
       "      <td>English</td>\n",
       "      <td>7/30/2016 20:16</td>\n",
       "      <td>7/30/2016 20:16</td>\n",
       "      <td>3395</td>\n",
       "      <td>2013</td>\n",
       "      <td>2159</td>\n",
       "      <td>RETWEET</td>\n",
       "      <td>Hashtager</td>\n",
       "      <td>0</td>\n",
       "      <td>1</td>\n",
       "      <td>HashtagGamer</td>\n",
       "    </tr>\n",
       "    <tr>\n",
       "      <th>3</th>\n",
       "      <td>1.674084e+09</td>\n",
       "      <td>GAB1ALDANA</td>\n",
       "      <td>#MyAchillesHeel slippery floors https://t.co/R...</td>\n",
       "      <td>United States</td>\n",
       "      <td>Norwegian</td>\n",
       "      <td>7/30/2016 20:16</td>\n",
       "      <td>7/30/2016 20:16</td>\n",
       "      <td>3395</td>\n",
       "      <td>2013</td>\n",
       "      <td>2160</td>\n",
       "      <td>RETWEET</td>\n",
       "      <td>Hashtager</td>\n",
       "      <td>0</td>\n",
       "      <td>1</td>\n",
       "      <td>HashtagGamer</td>\n",
       "    </tr>\n",
       "    <tr>\n",
       "      <th>4</th>\n",
       "      <td>1.674084e+09</td>\n",
       "      <td>GAB1ALDANA</td>\n",
       "      <td>#MyAchillesHeel Boring narcissists.....nothing...</td>\n",
       "      <td>United States</td>\n",
       "      <td>English</td>\n",
       "      <td>7/30/2016 20:16</td>\n",
       "      <td>7/30/2016 20:16</td>\n",
       "      <td>3395</td>\n",
       "      <td>2013</td>\n",
       "      <td>2158</td>\n",
       "      <td>RETWEET</td>\n",
       "      <td>Hashtager</td>\n",
       "      <td>0</td>\n",
       "      <td>1</td>\n",
       "      <td>HashtagGamer</td>\n",
       "    </tr>\n",
       "  </tbody>\n",
       "</table>\n",
       "</div>"
      ],
      "text/plain": [
       "   external_author_id      author  \\\n",
       "0        1.674084e+09  GAB1ALDANA   \n",
       "1        1.674084e+09  GAB1ALDANA   \n",
       "2        1.674084e+09  GAB1ALDANA   \n",
       "3        1.674084e+09  GAB1ALDANA   \n",
       "4        1.674084e+09  GAB1ALDANA   \n",
       "\n",
       "                                             content         region  \\\n",
       "0  People are too toxic. I think I have people po...  United States   \n",
       "1  #NowPlaying Don't Shoot (I'm a Man) by @DEVO -...  United States   \n",
       "2  the 'I'm the most boring person in the world' ...  United States   \n",
       "3  #MyAchillesHeel slippery floors https://t.co/R...  United States   \n",
       "4  #MyAchillesHeel Boring narcissists.....nothing...  United States   \n",
       "\n",
       "    language     publish_date   harvested_date  following  followers  updates  \\\n",
       "0    English  7/30/2016 20:15  7/30/2016 20:15       3395       2014     2150   \n",
       "1    English  7/30/2016 20:15  7/30/2016 20:15       3395       2014     2146   \n",
       "2    English  7/30/2016 20:16  7/30/2016 20:16       3395       2013     2159   \n",
       "3  Norwegian  7/30/2016 20:16  7/30/2016 20:16       3395       2013     2160   \n",
       "4    English  7/30/2016 20:16  7/30/2016 20:16       3395       2013     2158   \n",
       "\n",
       "  post_type account_type  new_june_2018  retweet account_category  \n",
       "0   RETWEET    Hashtager              0        1     HashtagGamer  \n",
       "1   RETWEET    Hashtager              0        1     HashtagGamer  \n",
       "2   RETWEET    Hashtager              0        1     HashtagGamer  \n",
       "3   RETWEET    Hashtager              0        1     HashtagGamer  \n",
       "4   RETWEET    Hashtager              0        1     HashtagGamer  "
      ]
     },
     "execution_count": 4,
     "metadata": {},
     "output_type": "execute_result"
    }
   ],
   "source": [
    "filenames = glob.glob(os.path.join(PATH_DATA, \"IRAhandle_tweets_*.csv\"))\n",
    "kaggle_df = pd.concat((pd.read_csv(f) for f in filenames))\n",
    "print('*'*66)\n",
    "print('The shape of the whole dataframe is the following : {}'.format(kaggle_df.shape))\n",
    "print('*'*66)\n",
    "kaggle_df.head()"
   ]
  },
  {
   "cell_type": "markdown",
   "metadata": {},
   "source": [
    "### 4.1.2. Description of the dataset\n",
    "\n",
    "#### 4.1.2.1 Small dataset from kaggle\n",
    "\n",
    "The IRAhandle_tweets dataset, is the given dataset collected by the Internet Research Agency.\n",
    "\n",
    "The dataset has different columns :\n",
    "\n",
    "* `external_author_id` : Account id of the tweet publisher\n",
    "* `author` : Name of the author of the tweet\n",
    "* `content` : The text of the tweet\n",
    "* `region` : Region classification\n",
    "* `language` : The language of the tweet\n",
    "* `publish_date` : The date and time when the tweet was published\n",
    "* `harvested_date` : The date and time the tweet was collected by Social Studio\n",
    "* `following` : The number of accounts the author was following (when he published the tweet)\n",
    "* `followers` : The number of people following the author was following (when he published the tweet)\n",
    "* `updates` : The number of “update actions” on the account that authored the tweet, including tweets, retweets and likes\n",
    "* `post_type` : Indicator if the tweet is a quote tweet or a retweet\n",
    "* `account_type` : Specific account theme, as coded by Linvill and Warren\n",
    "* `retweet` : Indicator (binary) if the tweet is a retweet or not\n",
    "* `account_category` : General account theme, as coded by Linvill and Warren\n",
    "* `new_june_2018` : A binary indicator of whether the author was newly listed in June 2018"
   ]
  },
  {
   "cell_type": "code",
   "execution_count": 5,
   "metadata": {},
   "outputs": [
    {
     "data": {
      "text/plain": [
       "external_author_id    float64\n",
       "author                 object\n",
       "content                object\n",
       "region                 object\n",
       "language               object\n",
       "publish_date           object\n",
       "harvested_date         object\n",
       "following               int64\n",
       "followers               int64\n",
       "updates                 int64\n",
       "post_type              object\n",
       "account_type           object\n",
       "new_june_2018           int64\n",
       "retweet                 int64\n",
       "account_category       object\n",
       "dtype: object"
      ]
     },
     "execution_count": 5,
     "metadata": {},
     "output_type": "execute_result"
    }
   ],
   "source": [
    "kaggle_df.dtypes"
   ]
  },
  {
   "cell_type": "markdown",
   "metadata": {},
   "source": [
    "##### 4.1.2.1.1 Proportion of quote tweet per region/language/account category"
   ]
  },
  {
   "cell_type": "code",
   "execution_count": 6,
   "metadata": {},
   "outputs": [
    {
     "data": {
      "image/png": "[encoded data removed]",
      "text/plain": [
       "<Figure size 1152x288 with 1 Axes>"
      ]
     },
     "metadata": {},
     "output_type": "display_data"
    },
    {
     "data": {
      "image/png": "[encoded data removed]",
      "text/plain": [
       "<Figure size 1152x288 with 1 Axes>"
      ]
     },
     "metadata": {},
     "output_type": "display_data"
    },
    {
     "data": {
      "image/png": "[encoded data removed]",
      "text/plain": [
       "<Figure size 1152x288 with 1 Axes>"
      ]
     },
     "metadata": {},
     "output_type": "display_data"
    }
   ],
   "source": [
    "# Select only the quote tweet\n",
    "quote_tweet_df = kaggle_df.loc[kaggle_df['post_type'] == 'QUOTE_TWEET']\n",
    "\n",
    "# Plot the number of quote tweet per region\n",
    "fig, ax = plt.subplots(1, 1, figsize=(16, 4))\n",
    "ax = quote_tweet_df['region'].value_counts().plot.bar()\n",
    "ax.set_xlabel('region')\n",
    "ax.set_ylabel('count')\n",
    "ax.set_title('Number of quote tweet per region')\n",
    "\n",
    "# Plot the number of quote tweet per language\n",
    "fig, ax = plt.subplots(1, 1, figsize=(16, 4))\n",
    "ax = quote_tweet_df['language'].value_counts().plot.bar()\n",
    "ax.set_xlabel('language')\n",
    "ax.set_ylabel('count')\n",
    "ax.set_title('Number of quote tweet per language')\n",
    "\n",
    "# Plot the number of quote tweet per account category\n",
    "fig, ax = plt.subplots(1, 1, figsize=(16, 4))\n",
    "ax = quote_tweet_df['account_category'].value_counts().plot.bar()\n",
    "ax.set_xlabel('account category')\n",
    "ax.set_ylabel('count')\n",
    "ax.set_title('Number of quote tweet per language')\n",
    "\n",
    "plt.show()"
   ]
  },
  {
   "cell_type": "markdown",
   "metadata": {},
   "source": [
    "##### 4.1.2.1.2 Proportion of all tweets (including the retweet) per region/language\n",
    "\n",
    "In order to see the proportion of tweet corresponding to different features, and to see how we will use the dataset, we will first see how many tweets per region, language and hashtags category have been posted."
   ]
  },
  {
   "cell_type": "code",
   "execution_count": 7,
   "metadata": {},
   "outputs": [
    {
     "data": {
      "image/png": "[encoded data removed]",
      "text/plain": [
       "<Figure size 1152x288 with 1 Axes>"
      ]
     },
     "metadata": {},
     "output_type": "display_data"
    },
    {
     "data": {
      "image/png": "[encoded data removed]",
      "text/plain": [
       "<Figure size 1152x288 with 1 Axes>"
      ]
     },
     "metadata": {},
     "output_type": "display_data"
    },
    {
     "data": {
      "image/png": "[encoded data removed]",
      "text/plain": [
       "<Figure size 1152x288 with 1 Axes>"
      ]
     },
     "metadata": {},
     "output_type": "display_data"
    }
   ],
   "source": [
    "# Plot the number of tweet per region\n",
    "fig, ax = plt.subplots(1, 1, figsize=(16, 4))\n",
    "ax = kaggle_df['region'].value_counts().plot.bar()\n",
    "ax.set_xlabel('region')\n",
    "ax.set_ylabel('count')\n",
    "ax.set_title('Number of tweet per region')\n",
    "\n",
    "# Plot the number of tweet per language\n",
    "fig, ax = plt.subplots(1, 1, figsize=(16, 4))\n",
    "ax = kaggle_df['language'].value_counts().plot.bar()\n",
    "ax.set_xlabel('language')\n",
    "ax.set_ylabel('count')\n",
    "ax.set_title('Number of tweet per language')\n",
    "\n",
    "# Plot the number of tweet per account category\n",
    "fig, ax = plt.subplots(1, 1, figsize=(16, 4))\n",
    "ax = kaggle_df['account_category'].value_counts().plot.bar()\n",
    "ax.set_xlabel('account category')\n",
    "ax.set_ylabel('count')\n",
    "ax.set_title('Number of tweet per account category')\n",
    "\n",
    "plt.show()"
   ]
  },
  {
   "cell_type": "markdown",
   "metadata": {},
   "source": [
    "In this dataset, we can see that most of the tweets come from the US, and are published in english. This means, that we will keep at least ~200000 tweets for our analysis using this dataset. The main advantage of this dataset, is the classification made by Linvill and Warren, indicating us if the tweet corresponds to a right troll or a left troll (which is very useful in our analysis)."
   ]
  },
  {
   "cell_type": "markdown",
   "metadata": {},
   "source": [
    "#### 4.1.2.1.3 NaN and unique values for each column of the dataset\n",
    "\n",
    "To see how to clean this dataset, we first have to see what each column contains (values, number of unknown values, Nan or null values)."
   ]
  },
  {
   "cell_type": "code",
   "execution_count": 8,
   "metadata": {
    "scrolled": false
   },
   "outputs": [
    {
     "name": "stdout",
     "output_type": "stream",
     "text": [
      "**********************************************************************\n",
      "Region description : \n",
      "\n",
      "The different regions are : \n",
      " ['United States' 'Spain' 'Unknown' 'Russian Federation'\n",
      " 'United Arab Emirates' 'Italy' 'Azerbaijan' nan 'Afghanistan' 'Japan'\n",
      " 'Germany' 'Saudi Arabia' 'Iraq' 'Israel' 'Egypt' 'Belarus'\n",
      " 'Iran, Islamic Republic of' 'Mexico' 'Canada' 'France' 'United Kingdom'\n",
      " 'Ukraine' 'Greece' 'Czech Republic' 'Finland' 'Latvia' 'Estonia'\n",
      " 'Malaysia' 'Samoa' 'India' 'Turkey' 'Serbia' 'Hong Kong' 'Austria'\n",
      " 'Sweden' 'Denmark' 'Switzerland']\n",
      "\n",
      "The number of null values is : 8843 (0.297406546307 %)\n",
      "The number of unknown values is : 572767 (19.263220096 %)\n",
      "Number of tweets from US : 2055882 (69.1431375365 %) of the dataset\n",
      "**********************************************************************\n",
      "Language description : \n",
      "\n",
      "The different languages are : \n",
      " ['English' 'Norwegian' 'Farsi (Persian)' 'French' 'Dutch' 'Vietnamese'\n",
      " 'Italian' 'Latvian' 'Spanish' 'Lithuanian' 'Albanian' 'Romanian' 'German'\n",
      " 'Finnish' 'Swedish' 'Icelandic' 'Russian' 'Ukrainian' 'Japanese'\n",
      " 'Catalan' 'Arabic' 'Estonian' 'Pushto' 'Tagalog (Filipino)' 'Portuguese'\n",
      " 'Macedonian' 'Serbian' 'Bulgarian' 'Uzbek' 'LANGUAGE UNDEFINED'\n",
      " 'Croatian' 'Hebrew' 'Kurdish' 'Czech' 'Thai' 'Polish' 'Turkish'\n",
      " 'Hungarian' 'Indonesian' 'Slovak' 'Somali' 'Malay' 'Danish' 'Gujarati'\n",
      " 'Greek' 'Korean' 'Urdu' 'Hindi' 'Slovenian' 'Traditional Chinese'\n",
      " 'Simplified Chinese' 'Kannada' 'Tamil' 'Bengali' 'Telugu' 'Malayalam']\n",
      "\n",
      "The number of LANGUAGE UNDEFINED is : 8325 (0.279985242339 %)\n",
      "Number of english tweets : 2128963 (71.600987566 %) of the dataset\n",
      "**********************************************************************\n",
      "Post type description : \n",
      "\n",
      "The different post types are : \n",
      " ['RETWEET' nan 'QUOTE_TWEET']\n",
      "\n",
      "The number of null values is : 1662425 (55.910446426 %)\n",
      "**********************************************************************\n",
      "Account type description : \n",
      "\n",
      "The different account types are : \n",
      " ['Hashtager' 'Koch' 'Spanish' 'German' 'Russian' 'left' 'Right' 'Italian'\n",
      " '?' 'Ebola ' 'news' 'Arabic' 'Commercial' 'local' nan 'French' 'Ukranian'\n",
      " 'right' 'Uzbek' 'ZAPOROSHIA' 'Portuguese']\n",
      "\n",
      "The number of null values is : 363 (0.0122083655218 %)\n",
      "The number of ? is : 13542 (0.455442660872 %)\n",
      "**********************************************************************\n",
      "Account category description : \n",
      "\n",
      "The different account categories are : \n",
      " ['HashtagGamer' 'Fearmonger' 'NonEnglish' 'LeftTroll' 'RightTroll'\n",
      " 'Unknown' 'NewsFeed' 'Commercial']\n",
      "The number of unknown values is : 13905 (0.467651026394 %)\n",
      "**********************************************************************\n",
      "Retweet description : \n",
      "\n",
      "The different values for retweet are : \n",
      " [1 0]\n",
      "The number of null values is : 0 (0.0 %)\n",
      "**********************************************************************\n",
      "Dates description : \n",
      "\n",
      "The minimum date in the dataset is 1/1/2013 16:16\n",
      "The maximum date in the dataset is 9/9/2017 9:51\n",
      "\n",
      "The number of null date values is : 0 (0.0 %)\n",
      "**********************************************************************\n"
     ]
    }
   ],
   "source": [
    "# Region\n",
    "print('*'*70+'\\nRegion description : \\n')\n",
    "print('The different regions are : \\n {}'.format(kaggle_df['region'].unique()))\n",
    "N_null = kaggle_df['region'].isnull().sum()\n",
    "percentage = float(N_null)/float(kaggle_df.shape[0])\n",
    "print('\\nThe number of null values is : {} ({} %)'.format(N_null, 100*percentage))\n",
    "N_null = kaggle_df[kaggle_df['region'] == 'Unknown'].shape[0]\n",
    "percentage = float(N_null)/float(kaggle_df.shape[0])\n",
    "print('The number of unknown values is : {} ({} %)'.format(N_null, 100*percentage))\n",
    "N_us = kaggle_df[kaggle_df['region'] == 'United States'].shape[0]\n",
    "print('Number of tweets from US : {} ({} %) of the dataset'.format(N_us, 100*\\\n",
    "                                                           float(N_us)/float(kaggle_df.shape[0])))\n",
    "\n",
    "# Language\n",
    "print('*'*70+'\\nLanguage description : \\n')\n",
    "print('The different languages are : \\n {}'.format(kaggle_df['language'].unique()))\n",
    "N_null = kaggle_df[kaggle_df['language'] == 'LANGUAGE UNDEFINED'].shape[0]\n",
    "percentage = float(N_null)/float(kaggle_df.shape[0])\n",
    "print('\\nThe number of LANGUAGE UNDEFINED is : {} ({} %)'.format(N_null, 100*percentage))\n",
    "N_english = kaggle_df[kaggle_df['language'] == 'English'].shape[0]\n",
    "print('Number of english tweets : {} ({} %) of the dataset'.format(N_english, 100*\\\n",
    "                                                           float(N_english)/float(kaggle_df.shape[0])))\n",
    "\n",
    "# Post type\n",
    "print('*'*70+'\\nPost type description : \\n')\n",
    "print('The different post types are : \\n {}'.format(kaggle_df['post_type'].unique()))\n",
    "N_null = kaggle_df['post_type'].isnull().sum()\n",
    "percentage = float(N_null)/float(kaggle_df.shape[0])\n",
    "print('\\nThe number of null values is : {} ({} %)'.format(N_null, 100*percentage))\n",
    "\n",
    "# Account type\n",
    "print('*'*70+'\\nAccount type description : \\n')\n",
    "print('The different account types are : \\n {}'.format(kaggle_df['account_type'].unique()))\n",
    "N_null = kaggle_df['account_type'].isnull().sum()\n",
    "percentage = float(N_null)/float(kaggle_df.shape[0])\n",
    "print('\\nThe number of null values is : {} ({} %)'.format(N_null, 100*percentage))\n",
    "N_null = kaggle_df[kaggle_df['account_type'] == '?'].shape[0]\n",
    "percentage = float(N_null)/float(kaggle_df.shape[0])\n",
    "print('The number of ? is : {} ({} %)'.format(N_null, 100*percentage))\n",
    "\n",
    "# Account category\n",
    "print('*'*70+'\\nAccount category description : \\n')\n",
    "print('The different account categories are : \\n {}'.format(kaggle_df['account_category'].unique()))\n",
    "N_null = kaggle_df[kaggle_df['account_category'] == 'Unknown'].shape[0]\n",
    "percentage = float(N_null)/float(kaggle_df.shape[0])\n",
    "print('The number of unknown values is : {} ({} %)'.format(N_null, 100*percentage))\n",
    "\n",
    "# Retweet\n",
    "print('*'*70+'\\nRetweet description : \\n')\n",
    "print('The different values for retweet are : \\n {}'.format(kaggle_df['retweet'].unique()))\n",
    "N_null = kaggle_df['retweet'].isnull().sum()\n",
    "percentage = float(N_null)/float(kaggle_df.shape[0])\n",
    "print('The number of null values is : {} ({} %)'.format(N_null, 100*percentage))\n",
    "\n",
    "# Dates\n",
    "print('*'*70+'\\nDates description : \\n')\n",
    "print('The minimum date in the dataset is {}'.format(kaggle_df['publish_date'].min()))\n",
    "print('The maximum date in the dataset is {}'.format(kaggle_df['publish_date'].max()))\n",
    "N_null = kaggle_df['publish_date'].isnull().sum()\n",
    "percentage = float(N_null)/float(kaggle_df.shape[0])\n",
    "print('\\nThe number of null date values is : {} ({} %)'.format(N_null, 100*percentage))\n",
    "\n",
    "print('*'*70)"
   ]
  },
  {
   "cell_type": "markdown",
   "metadata": {},
   "source": [
    "When reading the results above, we can see that if we only keep the interesting language (english), we will only keep 71.6 % of the dataset, which corresponds to about 210000 tweets. We can see (given the analysis of the columns) that a cleaning is not necessary, as all the columns have almost no null values. The only problem can come from the post_type column, but as the column 'retweet' gives us enough informations about the post_type, the only thing to do is to modify the post_type column according to the column 'retweet'."
   ]
  },
  {
   "cell_type": "markdown",
   "metadata": {},
   "source": [
    "### 4.2. Dataset from tweeter\n",
    "\n",
    "#### 4.2.1. Loading the dataset\n",
    "\n",
    "The rus_troll_tweets dataset, is a subsample (1%) of the total tweets that have been posted by russian account during the elections (till now).\n",
    "\n",
    "The dataset has different files :\n",
    "\n",
    "`rus_troll_user.csv` : Contains the user features (nickname, description field, follower count, ...) <br/>\n",
    "`rus_troll_tweet_text.csv`: Contains the text, and language of each tweet. This is the one we will use to analyse some recurrent text apparition, etc <br/>\n",
    "`rus_troll_tweet_metadata.csv`: Contains features that are user specific for each tweet <br/>\n",
    "`rus_troll_tweet_stats.csv`: Contains other tweet features (retweet number, quoted number, ...) <br/>\n",
    "\n",
    "The column that can appear in each file are descripted below :\n",
    "* `tweetid` : the id of the tweet (for identification purpose)\n",
    "* `userid` : the id of the user\n",
    "* `user_display_name` : the name of the user (encoded for anonymized users)\n",
    "* `user_screen_name` : Twitter name of the user (encoded for anonymized users)\n",
    "* `user_reported_location` : location of the user (self-reported) (at the moment of the tweet)\n",
    "* `user_profile description` : description of the user's profile (at the moment of the tweet)\n",
    "* `user_profile_url` : Profil URL of the user (at the moment of the tweet)\n",
    "* `follower_count` : Number of people following the author (at the moment of the tweet)\n",
    "* `following_count` : Number of people the author is following (at the moment of the tweet)\n",
    "* `account_creation_date` : time and date of the account creation\n",
    "* `account_language` : language of the account (chosen by the user)\n",
    "* `tweet_language` : language of the tweet\n",
    "* `tweet_text` : content of the tweet (mentions to anonymized accounts have been replaced with anonymized userid)\n",
    "* `tweet_time` : time when the tweet was published\n",
    "* `tweet_client_name` : name of the client app used to publish the tweet\n",
    "* `in_reply_to_tweetid` : the tweetid of the original tweet (if the tweet is reply to another one) (only for replies)\n",
    "* `in_reply_to_userid` : the userid of the original tweet (if the tweet is reply to another one) (only for replies)\n",
    "* `quoted_tweet_tweetid` : tweetid of the original tweet (if the tweet is a quote of another one) (only for quotes)\n",
    "* `is_retweet` : indicates if the tweet is a retweet or not (binary)\n",
    "* `retweet_userid` : userid who published the original tweet (retweets only)\n",
    "* `retweet_tweetid` : tweetid of the original tweet (retweets only)\n",
    "* `latitude` : geo-located latitude (if available)\n",
    "* `longitude` : geo-located longitude (if available)\n",
    "* `quote_count` : number of tweets quoting the tweet\n",
    "* `reply_count` : number of tweets replying to the tweet\n",
    "* `like_count` : number of like of the tweet\n",
    "* `retweet_count` : number of retweet of the tweet\n",
    "* `hashtags` : list of hashtags contained in the tweet\n",
    "* `urls` : list of urls contained in the tweet\n",
    "* `user_mentions` : list of userid mentionned in the tweet (anonymized included)\n",
    "* `poll_choices` : poll choices (if the tweet includes a poll)"
   ]
  },
  {
   "cell_type": "code",
   "execution_count": null,
   "metadata": {
    "scrolled": false
   },
   "outputs": [],
   "source": [
    "user_df = pd.read_csv(PATH_DATA + '/rus_troll_user.csv')\n",
    "metadata_df = pd.read_csv(PATH_DATA + '/rus_troll_tweet_metadata.csv')\n",
    "stats_df = pd.read_csv(PATH_DATA + '/rus_troll_tweet_stats.csv')\n",
    "text_df = pd.read_csv(PATH_DATA + '/rus_troll_tweet_text.csv')\n",
    "\n",
    "print('*'*66)\n",
    "print('The shape of the user dataframe is : {}'.format(user_df.shape))\n",
    "print('The shape of the metadata dataframe is : {}'.format(metadata_df.shape))\n",
    "print('The shape of the stats dataframe is : {}'.format(stats_df.shape))\n",
    "print('The shape of the text dataframe is : {}'.format(text_df.shape))\n",
    "print('*'*66)"
   ]
  },
  {
   "cell_type": "markdown",
   "metadata": {},
   "source": [
    "#### 4.2.2. Dataset description\n",
    "To understand what fields are contained in each csv files, and what files we may need, we can first plot the columns of each dataframe :"
   ]
  },
  {
   "cell_type": "code",
   "execution_count": 10,
   "metadata": {},
   "outputs": [
    {
     "name": "stdout",
     "output_type": "stream",
     "text": [
      "**********************************************************************\n",
      "user dataframe : \n",
      "\n",
      "The fields for user dataframe are : \n",
      "['userid', 'user_display_name', 'user_screen_name', 'user_reported_location', 'user_profile_description', 'user_profile_url', 'account_creation_date', 'account_language', 'follower_count', 'following_count', 'last_tweet_at']\n",
      "**********************************************************************\n",
      "metadata dataframe : \n",
      "\n",
      "The fields for metadata dataframe are : \n",
      "['tweetid', 'follower_count', 'following_count', 'latitude', 'longitude', 'tweet_client_name']\n",
      "**********************************************************************\n",
      "stats dataframe : \n",
      "\n",
      "The fields for stats dataframe are : \n",
      "['tweetid', 'userid', 'tweet_time', 'in_reply_to_tweetid', 'in_reply_to_userid', 'quoted_tweet_tweetid', 'is_retweet', 'retweet_userid', 'retweet_tweetid', 'quote_count', 'reply_count', 'like_count', 'retweet_count', 'hashtags', 'urls', 'user_mentions', 'poll_choices']\n",
      "**********************************************************************\n",
      "text dataframe : \n",
      "\n",
      "The fields for text dataframe are : \n",
      "['tweetid', 'tweet_language', 'tweet_text']\n",
      "**********************************************************************\n",
      "\n",
      "The number of tweets are for : \n",
      "metadata: 9041308 \n",
      "stats: 9041308 \n",
      "text: 9041308\n",
      "**********************************************************************\n"
     ]
    }
   ],
   "source": [
    "# user\n",
    "print('*'*70+'\\nuser dataframe : \\n')\n",
    "print('The fields for user dataframe are : \\n{}'.format(user_df.columns.tolist()))\n",
    "\n",
    "# metadata\n",
    "print('*'*70+'\\nmetadata dataframe : \\n')\n",
    "print('The fields for metadata dataframe are : \\n{}'.format(metadata_df.columns.tolist()))\n",
    "\n",
    "# stats\n",
    "print('*'*70+'\\nstats dataframe : \\n')\n",
    "print('The fields for stats dataframe are : \\n{}'.format(stats_df.columns.tolist()))\n",
    "\n",
    "# text\n",
    "print('*'*70+'\\ntext dataframe : \\n')\n",
    "print('The fields for text dataframe are : \\n{}'.format(text_df.columns.tolist()))\n",
    "\n",
    "# number of tweets\n",
    "print('*'*70)\n",
    "print('\\nThe number of tweets are for : \\nmetadata: {} \\nstats: {} \\ntext: {}'.\\\n",
    "      format(metadata_df.shape[0],stats_df.shape[0],text_df.shape[0]))\n",
    "\n",
    "print('*'*70)"
   ]
  },
  {
   "cell_type": "markdown",
   "metadata": {},
   "source": [
    "We can see here that we have a total of about 9M of tweets for a total of about 4k of users, and given the columns of each dataframe, we can choose the columns we want to keep for our analysis.\n",
    "\n",
    "For the stats dataframe :\n",
    "* `tweetid`\n",
    "* `userid`\n",
    "* `tweet_time`\n",
    "* `in_reply_to_tweetid`\n",
    "* `in_reply_to_userid`\n",
    "* `quoted_tweet_tweetid`\n",
    "* `is_retweet`\n",
    "* `retweet_userid`\n",
    "* `retweet_tweetid`\n",
    "* `quote_count`\n",
    "* `reply_count`\n",
    "* `like_count`\n",
    "* `retweet_count`\n",
    "* `hashtags`\n",
    "* `urls`\n",
    "* `user_mentions`\n",
    "* `poll_choices`\n",
    "\n",
    "For the text dataframe :\n",
    "* `tweetid`\n",
    "* `tweet_language`\n",
    "* `tweet_text`\n",
    "\n",
    "For the metadata dataframe :\n",
    "* `tweetid`\n",
    "* `follower_count`\n",
    "* `following_count`\n",
    "* `latitude`\n",
    "* `longitude`\n",
    "\n",
    "As for the moment, our analysis in not based on the users, we don't need the user dataframe. But depending on the future features we might need, it is possible that we finally use this dataframe."
   ]
  },
  {
   "cell_type": "markdown",
   "metadata": {},
   "source": [
    "##### 4.2.2.1 Proportion of tweet per language"
   ]
  },
  {
   "cell_type": "code",
   "execution_count": 11,
   "metadata": {},
   "outputs": [
    {
     "name": "stdout",
     "output_type": "stream",
     "text": [
      "***************************************************************************\n",
      "Number of tweet in english : 3261931 (36.0780873741 % of the dataset)\n",
      "***************************************************************************\n"
     ]
    },
    {
     "data": {
      "image/png": "[encoded data removed]",
      "text/plain": [
       "<Figure size 1152x288 with 1 Axes>"
      ]
     },
     "metadata": {},
     "output_type": "display_data"
    }
   ],
   "source": [
    "# Plot the number of quote tweet per language\n",
    "fig, ax = plt.subplots(1, 1, figsize=(16, 4))\n",
    "ax = text_df['tweet_language'].value_counts().plot.bar()\n",
    "ax.set_xlabel('language')\n",
    "ax.set_ylabel('count')\n",
    "ax.set_title('Number of tweet per language')\n",
    "\n",
    "# number of tweets\n",
    "N_english = text_df[text_df['tweet_language'] == 'en'].shape[0]\n",
    "print('*'*75)\n",
    "print('Number of tweet in english : {} ({} % of the dataset)'.format(N_english, 100*\\\n",
    "                                                     float(N_english)/float(text_df['tweet_language'].shape[0])))\n",
    "\n",
    "print('*'*75)\n",
    "\n",
    "plt.show()"
   ]
  },
  {
   "cell_type": "markdown",
   "metadata": {},
   "source": [
    "##### 4.2.2.2 Proportion of quote tweet, reply, retweet and requote"
   ]
  },
  {
   "cell_type": "code",
   "execution_count": 12,
   "metadata": {},
   "outputs": [
    {
     "data": {
      "image/png": "[encoded data removed]",
      "text/plain": [
       "<Figure size 432x288 with 1 Axes>"
      ]
     },
     "metadata": {},
     "output_type": "display_data"
    }
   ],
   "source": [
    "stats_df['tweet_type'] = 'original'\n",
    "reply_index = (stats_df['in_reply_to_tweetid'].notnull()) | (stats_df['in_reply_to_userid'].notnull())\n",
    "retweet_index = (stats_df['is_retweet'] == True) & (stats_df['quoted_tweet_tweetid'].isnull())\n",
    "requoted_index = (stats_df['is_retweet'] == True) & (stats_df['quoted_tweet_tweetid'].notnull())\n",
    "stats_df.loc[reply_index,'tweet_type'] = 'reply'\n",
    "stats_df.loc[retweet_index ,'tweet_type'] = 'retweet'\n",
    "stats_df.loc[requoted_index,'tweet_type'] = 'requoted'\n",
    "plt.pie([reply_index.sum(),retweet_index.sum(),requoted_index.sum(),(stats_df['tweet_type'] == 'original').sum()],\n",
    "        labels=['reply','retweet','requoted','original tweets'],autopct='%1.1f%%', shadow=True, startangle=140)\n",
    "plt.axis('equal')\n",
    "plt.show()"
   ]
  },
  {
   "cell_type": "markdown",
   "metadata": {},
   "source": [
    "##### 4.2.2.3 Number of tweets in function of time"
   ]
  },
  {
   "cell_type": "code",
   "execution_count": null,
   "metadata": {},
   "outputs": [],
   "source": [
    "dataset = stats_df.merge(text_df, how= 'inner', on='tweetid')\n",
    "dataset = dataset.merge(metadata_df, how= 'inner', on='tweetid')\n",
    "dataset['date'] = pd.to_datetime(dataset['tweet_time'], format='%Y-%m-%d %H:%M').dt.date\n",
    "\n",
    "ax = dataset[['date', 'tweet_text']].groupby('date').count().plot(figsize=[16, 6])\n",
    "ax.set_ylabel('Number of tweets')\n",
    "ax.set_title('Evolution of the number of tweet in function of the time')\n",
    "plt.show()"
   ]
  },
  {
   "cell_type": "code",
   "execution_count": null,
   "metadata": {},
   "outputs": [],
   "source": [
    "ax = dataset.loc[dataset['tweet_language'] == 'en',['date', 'tweet_text']].groupby('date').count().plot(figsize=[16, 6])\n",
    "ax.set_ylabel('Number of tweets')\n",
    "ax.set_title('Evolution of the number of english tweet in function of the time')\n",
    "plt.show()"
   ]
  },
  {
   "cell_type": "markdown",
   "metadata": {},
   "source": [
    "As we can see, there are three main peaks on the number of tweets in this dataset. One in the early 2015 which maybe corresponds with the beginning of the elections, and the second one (late 2016) maybe corresponds to the final round of the elections. The third one maybe comes from later scandale that may have appeared after the elections (mid-2018)"
   ]
  },
  {
   "cell_type": "markdown",
   "metadata": {},
   "source": [
    "##### 4.2.2.4  NaN and unique values for each column of the dataset"
   ]
  },
  {
   "cell_type": "code",
   "execution_count": 15,
   "metadata": {},
   "outputs": [
    {
     "name": "stdout",
     "output_type": "stream",
     "text": [
      "**********************************************************************\n",
      "For the feature : tweetid\n",
      "The number of null values is : 0 (0.0 %)\n",
      "**********************************************************************\n",
      "For the feature : userid\n",
      "The number of null values is : 0 (0.0 %)\n",
      "**********************************************************************\n",
      "For the feature : tweet_time\n",
      "The number of null values is : 0 (0.0 %)\n",
      "**********************************************************************\n",
      "For the feature : in_reply_to_tweetid\n",
      "The number of null values is : 8775100 (97.0556472581 %)\n",
      "**********************************************************************\n",
      "For the feature : in_reply_to_userid\n",
      "The number of null values is : 8503421 (94.0507833601 %)\n",
      "**********************************************************************\n",
      "For the feature : quoted_tweet_tweetid\n",
      "The number of null values is : 8853395 (97.9216170935 %)\n",
      "**********************************************************************\n",
      "For the feature : is_retweet\n",
      "The number of null values is : 0 (0.0 %)\n",
      "**********************************************************************\n",
      "For the feature : retweet_userid\n",
      "The number of null values is : 5708124 (63.1338297512 %)\n",
      "**********************************************************************\n",
      "For the feature : retweet_tweetid\n",
      "The number of null values is : 5708124 (63.1338297512 %)\n",
      "**********************************************************************\n",
      "For the feature : quote_count\n",
      "The number of null values is : 0 (0.0 %)\n",
      "**********************************************************************\n",
      "For the feature : reply_count\n",
      "The number of null values is : 0 (0.0 %)\n",
      "**********************************************************************\n",
      "For the feature : like_count\n",
      "The number of null values is : 0 (0.0 %)\n",
      "**********************************************************************\n",
      "For the feature : retweet_count\n",
      "The number of null values is : 0 (0.0 %)\n",
      "**********************************************************************\n",
      "For the feature : hashtags\n",
      "The number of null values is : 2378775 (26.3100759315 %)\n",
      "**********************************************************************\n",
      "For the feature : urls\n",
      "The number of null values is : 1640484 (18.1443215959 %)\n",
      "**********************************************************************\n",
      "For the feature : user_mentions\n",
      "The number of null values is : 5047231 (55.8241241201 %)\n",
      "**********************************************************************\n",
      "For the feature : poll_choices\n",
      "The number of null values is : 9040172 (99.9874354463 %)\n",
      "**********************************************************************\n",
      "For the feature : tweet_type\n",
      "The number of null values is : 0 (0.0 %)\n",
      "**********************************************************************\n",
      "For the feature : tweet_language\n",
      "The number of null values is : 296106 (3.27503498388 %)\n",
      "**********************************************************************\n",
      "For the feature : tweet_text\n",
      "The number of null values is : 2 (2.21206931563e-05 %)\n",
      "**********************************************************************\n",
      "For the feature : follower_count\n",
      "The number of null values is : 0 (0.0 %)\n",
      "**********************************************************************\n",
      "For the feature : following_count\n",
      "The number of null values is : 0 (0.0 %)\n",
      "**********************************************************************\n",
      "For the feature : latitude\n",
      "The number of null values is : 9036529 (99.9471426037 %)\n",
      "**********************************************************************\n",
      "For the feature : longitude\n",
      "The number of null values is : 9036529 (99.9471426037 %)\n",
      "**********************************************************************\n",
      "For the feature : tweet_client_name\n",
      "The number of null values is : 40341 (0.44618544131 %)\n",
      "**********************************************************************\n",
      "For the feature : date\n",
      "The number of null values is : 0 (0.0 %)\n",
      "**********************************************************************\n"
     ]
    }
   ],
   "source": [
    "for feature in dataset.columns:\n",
    "    print(70*'*'+'\\nFor the feature : %s' %(feature ))\n",
    "    N_null = dataset[feature].isnull().sum()\n",
    "    percentage = float(N_null)/float(dataset.shape[0])\n",
    "    print('The number of null values is : {} ({} %)'.format(N_null, 100*percentage))\n",
    "print(70*'*')"
   ]
  },
  {
   "cell_type": "markdown",
   "metadata": {},
   "source": [
    "As we can see here, most of the features don't have null values. The only ones that may have null values are : `in_reply_to_tweetid`, `in_reply_to_userid`, `quoted_tweet_tweetid`, `retweet_userid`, `retweet_tweetid`, `hashtags`, `latitude` and `longitude`.\n",
    "\n",
    "For `hashtags`, some tweets can simply not contain any hashtags. But as our analysis will taking into account the text of the tweet, it is not a problem. `latitude` and `longitude` fields are not always available, which explains why they are almost always null. This means, that our analysis won't be axed on the regions of the tweets given by these two features.\n",
    "\n",
    "For all the other one, it is normal that they are sometimes null, as they are only available if the tweet is a retweet, a reply, or a quote."
   ]
  },
  {
   "cell_type": "markdown",
   "metadata": {},
   "source": [
    "### 4.3 Voters survey\n",
    "\n",
    "In this dataset, there are 27 different features, but we will keep only the following :\n",
    "* `state` : state where the poll has been made\n",
    "* `startdate` : start date of the poll\n",
    "* `enddate` : end date of the poll\n",
    "* `samplesize` : number of people that have been questionned\n",
    "* `poll_wt` : weight of the poll\n",
    "* `rawpoll_clinton` : raw poll of results for clinton\n",
    "* `rawpoll_trump` : raw poll of results for trump\n",
    "* `rawpoll_johnson` : raw poll of results for johnson\n",
    "* `adjpoll_clinton` : adjusted poll of results for clinton (weighted with the whole population of the state)\n",
    "* `adjpoll_trump` : adjusted poll of results for trump (weighted with the whole population of the state)\n",
    "* `adjpoll_johnson` : adjusted poll of results for johnson (weighted with the whole population of the state)\n",
    "\n",
    "Here we don't keep the results for mcmullin, as almost all the values are not defined."
   ]
  },
  {
   "cell_type": "code",
   "execution_count": null,
   "metadata": {},
   "outputs": [],
   "source": [
    "voter_df = pd.read_csv(PATH_DATA + '/presidential_polls.csv', usecols=['state', 'startdate', 'enddate', 'samplesize', \n",
    "           'poll_wt', 'rawpoll_clinton', 'rawpoll_trump', 'rawpoll_johnson',\n",
    "           'adjpoll_clinton', 'adjpoll_trump', 'adjpoll_johnson'])\n",
    "\n",
    "print('*'*66)\n",
    "print('The shape of the voter dataframe is the following : {}'.format(voter_df.shape))\n",
    "print('*'*66)\n",
    "\n",
    "voter_df.head()"
   ]
  },
  {
   "cell_type": "markdown",
   "metadata": {},
   "source": [
    "#### 4.3.1 Dataset description\n",
    "To describe the dataset, we will first look for all the nan or null values."
   ]
  },
  {
   "cell_type": "code",
   "execution_count": 17,
   "metadata": {},
   "outputs": [
    {
     "name": "stdout",
     "output_type": "stream",
     "text": [
      "**********************************************************************\n",
      "For column : state\n",
      "The number of null values is : 0 (0.0 %)\n",
      "**********************************************************************\n",
      "For column : startdate\n",
      "The number of null values is : 0 (0.0 %)\n",
      "**********************************************************************\n",
      "For column : enddate\n",
      "The number of null values is : 0 (0.0 %)\n",
      "**********************************************************************\n",
      "For column : samplesize\n",
      "The number of null values is : 3 (0.0293083235639 %)\n",
      "**********************************************************************\n",
      "For column : poll_wt\n",
      "The number of null values is : 0 (0.0 %)\n",
      "**********************************************************************\n",
      "For column : rawpoll_clinton\n",
      "The number of null values is : 0 (0.0 %)\n",
      "**********************************************************************\n",
      "For column : rawpoll_trump\n",
      "The number of null values is : 0 (0.0 %)\n",
      "**********************************************************************\n",
      "For column : rawpoll_johnson\n",
      "The number of null values is : 3756 (36.694021102 %)\n",
      "**********************************************************************\n",
      "For column : adjpoll_clinton\n",
      "The number of null values is : 0 (0.0 %)\n",
      "**********************************************************************\n",
      "For column : adjpoll_trump\n",
      "The number of null values is : 0 (0.0 %)\n",
      "**********************************************************************\n",
      "For column : adjpoll_johnson\n",
      "The number of null values is : 3756 (36.694021102 %)\n",
      "**********************************************************************\n"
     ]
    }
   ],
   "source": [
    "for col in voter_df.columns:\n",
    "    print(70*'*'+'\\nFor column : %s' %(col ))\n",
    "    N_null = voter_df[col].isnull().sum()\n",
    "    percentage = float(N_null)/float(voter_df.shape[0])\n",
    "    print('The number of null values is : {} ({} %)'.format(N_null, 100*percentage))\n",
    "print(70*'*')"
   ]
  },
  {
   "cell_type": "markdown",
   "metadata": {},
   "source": [
    "For `samplesize` feature, we can see below that the only threes values are null. We won't remove these samples, as we may be more interested into results that are coresponding to the general vote (state = us).\n",
    "\n",
    "The other possible null values are for the column `rawpoll_johnson`, `adjpoll_johnson` which corresponds to the moment where only the two remaining candidates were selected (Trump and Clinton). This is why, we may work with these columns at the beginning of the campaign (to see if the influence of the tweet may have made more people vote for johnson istead of Trump or Clinton)."
   ]
  },
  {
   "cell_type": "code",
   "execution_count": 18,
   "metadata": {},
   "outputs": [
    {
     "data": {
      "text/html": [
       "<div>\n",
       "<style scoped>\n",
       "    .dataframe tbody tr th:only-of-type {\n",
       "        vertical-align: middle;\n",
       "    }\n",
       "\n",
       "    .dataframe tbody tr th {\n",
       "        vertical-align: top;\n",
       "    }\n",
       "\n",
       "    .dataframe thead th {\n",
       "        text-align: right;\n",
       "    }\n",
       "</style>\n",
       "<table border=\"1\" class=\"dataframe\">\n",
       "  <thead>\n",
       "    <tr style=\"text-align: right;\">\n",
       "      <th></th>\n",
       "      <th>state</th>\n",
       "      <th>startdate</th>\n",
       "      <th>enddate</th>\n",
       "      <th>samplesize</th>\n",
       "      <th>poll_wt</th>\n",
       "      <th>rawpoll_clinton</th>\n",
       "      <th>rawpoll_trump</th>\n",
       "      <th>rawpoll_johnson</th>\n",
       "      <th>adjpoll_clinton</th>\n",
       "      <th>adjpoll_trump</th>\n",
       "      <th>adjpoll_johnson</th>\n",
       "    </tr>\n",
       "  </thead>\n",
       "  <tbody>\n",
       "    <tr>\n",
       "      <th>1284</th>\n",
       "      <td>Illinois</td>\n",
       "      <td>7/11/2016</td>\n",
       "      <td>7/12/2016</td>\n",
       "      <td>NaN</td>\n",
       "      <td>0.029780</td>\n",
       "      <td>46.4</td>\n",
       "      <td>32.5</td>\n",
       "      <td>5.2</td>\n",
       "      <td>49.28047</td>\n",
       "      <td>35.69393</td>\n",
       "      <td>2.286038</td>\n",
       "    </tr>\n",
       "    <tr>\n",
       "      <th>4878</th>\n",
       "      <td>Illinois</td>\n",
       "      <td>7/11/2016</td>\n",
       "      <td>7/12/2016</td>\n",
       "      <td>NaN</td>\n",
       "      <td>0.017206</td>\n",
       "      <td>46.4</td>\n",
       "      <td>32.5</td>\n",
       "      <td>5.2</td>\n",
       "      <td>49.27000</td>\n",
       "      <td>35.93928</td>\n",
       "      <td>2.335123</td>\n",
       "    </tr>\n",
       "    <tr>\n",
       "      <th>8109</th>\n",
       "      <td>Illinois</td>\n",
       "      <td>7/11/2016</td>\n",
       "      <td>7/12/2016</td>\n",
       "      <td>NaN</td>\n",
       "      <td>0.029780</td>\n",
       "      <td>46.4</td>\n",
       "      <td>32.5</td>\n",
       "      <td>5.2</td>\n",
       "      <td>49.28476</td>\n",
       "      <td>35.72319</td>\n",
       "      <td>2.313945</td>\n",
       "    </tr>\n",
       "  </tbody>\n",
       "</table>\n",
       "</div>"
      ],
      "text/plain": [
       "         state  startdate    enddate  samplesize   poll_wt  rawpoll_clinton  \\\n",
       "1284  Illinois  7/11/2016  7/12/2016         NaN  0.029780             46.4   \n",
       "4878  Illinois  7/11/2016  7/12/2016         NaN  0.017206             46.4   \n",
       "8109  Illinois  7/11/2016  7/12/2016         NaN  0.029780             46.4   \n",
       "\n",
       "      rawpoll_trump  rawpoll_johnson  adjpoll_clinton  adjpoll_trump  \\\n",
       "1284           32.5              5.2         49.28047       35.69393   \n",
       "4878           32.5              5.2         49.27000       35.93928   \n",
       "8109           32.5              5.2         49.28476       35.72319   \n",
       "\n",
       "      adjpoll_johnson  \n",
       "1284         2.286038  \n",
       "4878         2.335123  \n",
       "8109         2.313945  "
      ]
     },
     "execution_count": 18,
     "metadata": {},
     "output_type": "execute_result"
    }
   ],
   "source": [
    "voter_df[voter_df['samplesize'].isnull()]"
   ]
  },
  {
   "cell_type": "markdown",
   "metadata": {},
   "source": [
    "#### 4.3.1.1 Evolution of the voting intention"
   ]
  },
  {
   "cell_type": "code",
   "execution_count": null,
   "metadata": {},
   "outputs": [],
   "source": [
    "ind_us = voter_df['state'] == 'U.S.'\n",
    "voter_us_df = voter_df.loc[ind_us]\n",
    "voter_us_df['date'] = pd.to_datetime(voter_us_df['startdate'], format='%m/%d/%Y').dt.date\n",
    "\n",
    "# Raw poll results\n",
    "ax = voter_us_df[['date', 'rawpoll_clinton', 'rawpoll_trump']].groupby('date').mean().plot(figsize=(16,6), \\\n",
    "                                                                                           linestyle=':', linewidth=2)\n",
    "\n",
    "ax.set_xlabel('date')\n",
    "ax.set_ylabel('percentage of voters')\n",
    "ax.set_title('percentage of voter for each candidate in funtion of time for raw polling')\n",
    "ax.legend(['Clinton', 'Trump'])\n",
    "\n",
    "# Adjusted poll results\n",
    "ax = voter_us_df[['date', 'adjpoll_clinton', 'adjpoll_trump']].groupby('date').mean().plot(figsize=(16,6), \\\n",
    "                                                                                           linestyle=':', linewidth=2)\n",
    "\n",
    "ax.set_xlabel('date')\n",
    "ax.set_ylabel('percentage of voters')\n",
    "ax.set_title('percentage of voter for each candidate in funtion of time for adjusted polling')\n",
    "ax.legend(['Clinton', 'Trump'])\n",
    "\n",
    "plt.show()"
   ]
  },
  {
   "cell_type": "markdown",
   "metadata": {},
   "source": [
    "We can see here, that as we approach of the elections, the general tendency to vote for Trump has increased compare to the one of Clinton (slightly decreased and then stayed almost constant). This can be explained by the fact that Trump made up the electors from the other candidates."
   ]
  },
  {
   "cell_type": "markdown",
   "metadata": {},
   "source": [
    "## 5. Cleaning the datasets"
   ]
  },
  {
   "cell_type": "markdown",
   "metadata": {},
   "source": [
    "Firt of all after analysing both dataset, we choose to use the twitter dataset because it has more tweets and has more statistic and metadata, however we loose the troll type category. We will try to retreive it in the future.\n",
    "\n",
    "In order to use the dataset, we first have to clean it. For this purpose, we will study, and select only certain row according to the following criteriae :\n",
    "* First, we suppose that only the english tweet will be used. Indeed, as the disinformation is supposed to be done in USA, it is relevant to keep only the tweet that have been posted in english.\n",
    "* Second, Donald Trump has been elected officially the 19th of december 2016. As the primary to these elections have begun on february the same year, it can be relevant to keep an interval of one year before the elections date.\n",
    "* Thirdly, some tweets are posted in one sentence, delimited by capital letters. In this case, the one word sentences have to be separated to help the research in a easier manner. However, alle the tweets can be posted with capital letters, so, for easier computations, it is more relevant to cast them in only lowercase sentences.\n"
   ]
  },
  {
   "cell_type": "markdown",
   "metadata": {},
   "source": [
    "#### The dataset is loaded (again) as follow: (no need to do the analyse above)\n",
    "1- Load text and keep only english tweets<br>\n",
    "2- Load stats and we select only the wanted time interval<br>\n",
    "3- Inner merge between zext and stats <br>\n",
    "4- Load metadata and merge <br>"
   ]
  },
  {
   "cell_type": "code",
   "execution_count": 20,
   "metadata": {},
   "outputs": [
    {
     "name": "stdout",
     "output_type": "stream",
     "text": [
      "Taken only enlish tweets: 36.0780873741 % of the dataframe have been kept\n",
      "Previous time interval is : 2009-05-09 15:59 -> 2018-06-21 14:32\n",
      "New time interval is : 2015-04-12 00:00 -> 2016-11-08 23:59\n",
      "For the time interval : 36.3465330459 % of the dataframe have been kept\n",
      "For the english tweets and  time interval  : 15.7231896093 % of the dataframe have been kept\n"
     ]
    }
   ],
   "source": [
    "# Load first text to select only english tweets\n",
    "text_df = pd.read_csv(PATH_DATA + '/rus_troll_tweet_text.csv')\n",
    "english_index = text_df['tweet_language'] == 'en'\n",
    "new_N = english_index.sum()\n",
    "old_N = text_df.shape[0]\n",
    "print('Taken only enlish tweets: {} % of the dataframe have been kept'.format(float(new_N)/float(old_N)*100))\n",
    "text_df = text_df.loc[english_index]\n",
    "\n",
    "\n",
    "# Load stats to select only english tweets\n",
    "stats_df = pd.read_csv(PATH_DATA + '/rus_troll_tweet_stats.csv', usecols = ['tweetid', 'userid', 'tweet_time', \n",
    "        'in_reply_to_tweetid', 'in_reply_to_userid', 'quoted_tweet_tweetid', 'is_retweet', 'retweet_userid', \n",
    "        'retweet_tweetid', 'quote_count', 'reply_count', 'like_count', 'retweet_count', 'hashtags'])\n",
    "# Keep only interesting time interval\n",
    "start_date = '2015-04-12 00:00'\n",
    "end_date = '2016-11-08 23:59'\n",
    "print('Previous time interval is : {} -> {}'.format(stats_df['tweet_time'].min(), stats_df['tweet_time'].max()))\n",
    "old_N = stats_df.shape[0]\n",
    "stats_df = stats_df[(stats_df['tweet_time'] >= start_date) & (stats_df['tweet_time'] <= end_date)]\n",
    "print('New time interval is : {} -> {}'.format(stats_df['tweet_time'].min(), stats_df['tweet_time'].max()))\n",
    "new_N = stats_df.shape[0]\n",
    "print('For the time interval : {} % of the dataframe have been kept'.format(float(new_N)/float(old_N)*100))\n",
    "\n",
    "\n",
    "# Then Merge the metadata\n",
    "dataset = text_df.merge(stats_df,how = 'inner', on = 'tweetid')\n",
    "print('For the english tweets and  time interval  : {} % of the dataframe have been kept'\\\n",
    "      .format(float(dataset.shape[0])/float(old_N)*100))\n",
    "metadata_df = pd.read_csv(PATH_DATA + '/rus_troll_tweet_metadata.csv')\n",
    "dataset = dataset.merge(metadata_df,how = 'inner', on = 'tweetid')"
   ]
  },
  {
   "cell_type": "markdown",
   "metadata": {},
   "source": [
    "** Then, we add a new feature to classify between reply, retweet, requoted and original tweets and plot the repartition **"
   ]
  },
  {
   "cell_type": "code",
   "execution_count": 21,
   "metadata": {},
   "outputs": [
    {
     "data": {
      "image/png": "[encoded data removed]",
      "text/plain": [
       "<Figure size 432x288 with 1 Axes>"
      ]
     },
     "metadata": {},
     "output_type": "display_data"
    }
   ],
   "source": [
    "dataset['tweet_type'] = 'original'\n",
    "reply_index = (dataset['in_reply_to_tweetid'].notnull()) | (dataset['in_reply_to_userid'].notnull())\n",
    "retweet_index = (dataset['is_retweet'] == True) & (dataset['quoted_tweet_tweetid'].isnull())\n",
    "requoted_index = (dataset['is_retweet'] == True) & (dataset['quoted_tweet_tweetid'].notnull())\n",
    "dataset.loc[reply_index,'tweet_type'] = 'reply'\n",
    "dataset.loc[retweet_index ,'tweet_type'] = 'retweet'\n",
    "dataset.loc[requoted_index,'tweet_type'] = 'requoted'\n",
    "plt.pie([reply_index.sum(),retweet_index.sum(),requoted_index.sum(),(dataset['tweet_type'] == 'original').sum()],\n",
    "        labels=['reply','retweet','requoted','original tweets'],autopct='%1.1f%%', shadow=True, startangle=140)\n",
    "plt.axis('equal')\n",
    "plt.show()"
   ]
  },
  {
   "cell_type": "markdown",
   "metadata": {},
   "source": [
    "#### The text is process as follow:\n",
    "1- hastags are removed (already on a column)<br>\n",
    "2- Remove RT at the beginning, @user_id and http<br>\n",
    "3- Replace smiley with meaning <br>\n",
    "4- Replace wrong conjugaison <br>\n",
    "5- Remove unwanted ponctuation <br>\n",
    "6- Words are set to lower keys <br>\n",
    "7- Add a feature of list of words tokenized <br>\n",
    "7- Add a feature of list of words stemmers (Stemmers remove morphological affixes from words, leaving only the word stem) <br>"
   ]
  },
  {
   "cell_type": "code",
   "execution_count": 22,
   "metadata": {},
   "outputs": [],
   "source": [
    "def clean_str(string):\n",
    "    # remove RT and user_id \n",
    "    string = re.sub(r'http\\S*', ' ', string)\n",
    "    string = re.sub(r'@\\S*', ' ', string)\n",
    "    string = re.sub(r'^RT ', ' ', string)\n",
    "    # Replaced smily with meaning\n",
    "    string = re.sub(r'\\:\\)', ' happy ', string)\n",
    "    string = re.sub(r'\\:\\(', ' sad ', string)\n",
    "    string = re.sub(r'\\:\\/', ' sarcasm ', string)\n",
    "    string = re.sub(r'\\<\\d', ' love ', string)\n",
    "    string = re.sub(r'&', ' and ', string)\n",
    "    # Change the conjugaison\n",
    "    string = re.sub(r\"what's \", \"what is \", string)\n",
    "    string = re.sub(r\"\\'s \", \" is \", string)\n",
    "    string = re.sub(r\"\\'ve \", \" have \", string)\n",
    "    string = re.sub(r\"can't \", \"cannot \", string)\n",
    "    string = re.sub(r\"n't \", \" not \", string)\n",
    "    string = re.sub(r\"i'm \", \" i am \", string)\n",
    "    string = re.sub(r\"i've \", \" i have \", string)\n",
    "    string = re.sub(r\"youre \", \" you are \", string)\n",
    "    string = re.sub(r\"it's \", \" it is \", string)\n",
    "    string = re.sub(r\"\\'re \", \" are \", string)\n",
    "    string = re.sub(r\"\\'d \", \" would \", string)\n",
    "    string = re.sub(r\"\\'ll \", \" will \", string)\n",
    "    string = re.sub(r\"don't \", \" dont \", string)\n",
    "    string = re.sub(r\"im \", \" i am \", string)\n",
    "    # change the ponctuation \n",
    "    string = re.sub(r\"[^A-Za-z0-9^,!.\\/'+-=]\", \" \", string)\n",
    "    string = re.sub(r\"\\d\", \" \", string) \n",
    "    string = re.sub(r\",\", \" \", string)\n",
    "    string = re.sub(r\":\", \" \", string)\n",
    "    string = re.sub(r\"\\.\", \" \", string)\n",
    "    string = re.sub(r\"!\", \" ! \", string)\n",
    "    string = re.sub(r\"\\/\", \" \", string)\n",
    "    string = re.sub(r\"\\^\", \" ^ \", string)\n",
    "    string = re.sub(r\"\\+\", \" + \", string)\n",
    "    string = re.sub(r\"\\-\", \" - \", string)\n",
    "    string = re.sub(r\"\\=\", \" = \", string)\n",
    "    string = re.sub(r\"'\", \" \", string)\n",
    "    string = re.sub(r\"(\\d+)(k)\", r\"\\g<1>000\", string)\n",
    "    string = re.sub(r\":\", \" : \", string)\n",
    "    string = re.sub(r\"\\0s\", \"0\", string)\n",
    "    string = re.sub(r\"e - mail\", \"email\", string)\n",
    "    string = re.sub(r\"\\s{2,}\", \" \", string)\n",
    "    return string.strip().lower()\n",
    "\n",
    "\n",
    "def clean_tweets(text):\n",
    "    # First remove hashtags from the text then pass throught regular expressions above\n",
    "    for hastag in text['hashtags'].strip('][').split(', '):\n",
    "        text['tweet_text'] = text['tweet_text'].replace('#'+hastag,\"\")\n",
    "    text['tweet_text'] = clean_str(text['tweet_text'])\n",
    "    return text['tweet_text']"
   ]
  },
  {
   "cell_type": "code",
   "execution_count": 23,
   "metadata": {},
   "outputs": [],
   "source": [
    "dataset['tweet_text'] = dataset.apply(lambda x: clean_tweets(x),axis=1)\n",
    "dataset['words_tokenized'] = dataset.apply(lambda x: word_tokenize(x['tweet_text']),axis=1) \n",
    "#stemmer = PorterStemmer()\n",
    "#dataset['words_stem'] = dataset.apply(lambda x: [stemmer.stem(word) for word in x['words_tokenized']],axis=1)"
   ]
  },
  {
   "cell_type": "code",
   "execution_count": 27,
   "metadata": {},
   "outputs": [
    {
     "data": {
      "text/html": [
       "<div>\n",
       "<style scoped>\n",
       "    .dataframe tbody tr th:only-of-type {\n",
       "        vertical-align: middle;\n",
       "    }\n",
       "\n",
       "    .dataframe tbody tr th {\n",
       "        vertical-align: top;\n",
       "    }\n",
       "\n",
       "    .dataframe thead th {\n",
       "        text-align: right;\n",
       "    }\n",
       "</style>\n",
       "<table border=\"1\" class=\"dataframe\">\n",
       "  <thead>\n",
       "    <tr style=\"text-align: right;\">\n",
       "      <th></th>\n",
       "      <th>tweet_text</th>\n",
       "      <th>hashtags</th>\n",
       "      <th>words_tokenized</th>\n",
       "    </tr>\n",
       "  </thead>\n",
       "  <tbody>\n",
       "    <tr>\n",
       "      <th>0</th>\n",
       "      <td>saw it several days ago during a trip and that...</td>\n",
       "      <td>[]</td>\n",
       "      <td>[saw, it, several, days, ago, during, a, trip,...</td>\n",
       "    </tr>\n",
       "    <tr>\n",
       "      <th>1</th>\n",
       "      <td>i need this skill</td>\n",
       "      <td>[]</td>\n",
       "      <td>[i, need, this, skill]</td>\n",
       "    </tr>\n",
       "    <tr>\n",
       "      <th>2</th>\n",
       "      <td>nigeria cries out avengers have finished us</td>\n",
       "      <td>[]</td>\n",
       "      <td>[nigeria, cries, out, avengers, have, finished...</td>\n",
       "    </tr>\n",
       "    <tr>\n",
       "      <th>3</th>\n",
       "      <td>you seen the video of the police tellin is kil...</td>\n",
       "      <td>[WearHoodieForTrayvon, TrayvonMartin]</td>\n",
       "      <td>[you, seen, the, video, of, the, police, telli...</td>\n",
       "    </tr>\n",
       "    <tr>\n",
       "      <th>4</th>\n",
       "      <td>all parrots would be equal from the beginning</td>\n",
       "      <td>[IfAnimalsMadeLaws, EqualityForAll]</td>\n",
       "      <td>[all, parrots, would, be, equal, from, the, be...</td>\n",
       "    </tr>\n",
       "    <tr>\n",
       "      <th>5</th>\n",
       "      <td>muslims cannot even coexist with muslims why d...</td>\n",
       "      <td>[]</td>\n",
       "      <td>[muslims, can, not, even, coexist, with, musli...</td>\n",
       "    </tr>\n",
       "    <tr>\n",
       "      <th>6</th>\n",
       "      <td>wo not stricter gun control change the situati...</td>\n",
       "      <td>[]</td>\n",
       "      <td>[wo, not, stricter, gun, control, change, the,...</td>\n",
       "    </tr>\n",
       "    <tr>\n",
       "      <th>7</th>\n",
       "      <td>and who will determine what exactly is</td>\n",
       "      <td>[offensive]</td>\n",
       "      <td>[and, who, will, determine, what, exactly, is]</td>\n",
       "    </tr>\n",
       "    <tr>\n",
       "      <th>8</th>\n",
       "      <td>yeap</td>\n",
       "      <td>[]</td>\n",
       "      <td>[yeap]</td>\n",
       "    </tr>\n",
       "    <tr>\n",
       "      <th>9</th>\n",
       "      <td>you know that fat girls who believe in usually...</td>\n",
       "      <td>[BodyAcceptance]</td>\n",
       "      <td>[you, know, that, fat, girls, who, believe, in...</td>\n",
       "    </tr>\n",
       "  </tbody>\n",
       "</table>\n",
       "</div>"
      ],
      "text/plain": [
       "                                          tweet_text  \\\n",
       "0  saw it several days ago during a trip and that...   \n",
       "1                                  i need this skill   \n",
       "2        nigeria cries out avengers have finished us   \n",
       "3  you seen the video of the police tellin is kil...   \n",
       "4      all parrots would be equal from the beginning   \n",
       "5  muslims cannot even coexist with muslims why d...   \n",
       "6  wo not stricter gun control change the situati...   \n",
       "7             and who will determine what exactly is   \n",
       "8                                               yeap   \n",
       "9  you know that fat girls who believe in usually...   \n",
       "\n",
       "                                hashtags  \\\n",
       "0                                     []   \n",
       "1                                     []   \n",
       "2                                     []   \n",
       "3  [WearHoodieForTrayvon, TrayvonMartin]   \n",
       "4    [IfAnimalsMadeLaws, EqualityForAll]   \n",
       "5                                     []   \n",
       "6                                     []   \n",
       "7                            [offensive]   \n",
       "8                                     []   \n",
       "9                       [BodyAcceptance]   \n",
       "\n",
       "                                     words_tokenized  \n",
       "0  [saw, it, several, days, ago, during, a, trip,...  \n",
       "1                             [i, need, this, skill]  \n",
       "2  [nigeria, cries, out, avengers, have, finished...  \n",
       "3  [you, seen, the, video, of, the, police, telli...  \n",
       "4  [all, parrots, would, be, equal, from, the, be...  \n",
       "5  [muslims, can, not, even, coexist, with, musli...  \n",
       "6  [wo, not, stricter, gun, control, change, the,...  \n",
       "7     [and, who, will, determine, what, exactly, is]  \n",
       "8                                             [yeap]  \n",
       "9  [you, know, that, fat, girls, who, believe, in...  "
      ]
     },
     "execution_count": 27,
     "metadata": {},
     "output_type": "execute_result"
    }
   ],
   "source": [
    "dataset[['tweet_text','hashtags','words_tokenized']].head(10)"
   ]
  },
  {
   "cell_type": "code",
   "execution_count": null,
   "metadata": {},
   "outputs": [],
   "source": [
    "dataset.to_csv(PATH_DATA+'/dataset.csv')"
   ]
  },
  {
   "cell_type": "markdown",
   "metadata": {},
   "source": [
    "## 6. Analysis part\n",
    "\n",
    "Our first goal is to associate tweets to events related to politic, for example the list of scandale above. In order to do that we plan to analyse the hashtags on the keywords highlight form the cleaning phase.\n",
    "Our second goal would be to analyse the techniques used and what is the impact on voting intentions?"
   ]
  },
  {
   "cell_type": "markdown",
   "metadata": {},
   "source": [
    "### 6.1. Scandale research"
   ]
  },
  {
   "cell_type": "markdown",
   "metadata": {},
   "source": [
    "As seen in the introduction, we have seen different scandale in which we are interested. Therefore, we will study the following hashtags or keywords :\n",
    "* Hillary Clinton's Email scandale : ['hillary' 'mail'] or ['clinton' 'mail']\n",
    "* Hillary Clinton's malaise : ['hillary' 'malaise'] or ['hillary' 'faint'] or ['clinton' 'malaise'] or ['clinton' 'faint']\n",
    "* Hillary insulting Trump's voter : ['hillary' 'insult' 'trump' 'elector'] or ['hillary' 'insult' 'trump' 'elector']\n",
    "* Pizzagate scandale : ['pizzagate']\n",
    "* Donald Trump's bankruptcy : '[trump' 'bankruptcy'] or ['donald' 'bankruptcy']\n",
    "* Donald Trump's taxes : ['trump' 'taxe'] or ['donald' 'taxe']\n",
    "* Donald Trump's sexist tape : ['trump' 'sexist' 'tape'] or ['donald' 'sexist' 'tape']\n",
    "* Donald Trump insulting the army chief's father : ['trump' 'army' 'father'] or ['trump' 'khan'] or ['donald' 'army' 'father'] or ['donald' 'khan']\n",
    "\n",
    "To see the impact of each scandale, we will look for different results :\n",
    "* Time on which all the quote tweet were published (distribution in time)\n",
    "* Showing the 10 most active user that tweeted something about him during the time period\n",
    "* For the 10 most viral tweets, show how the number of retweet evolved in function of the time"
   ]
  },
  {
   "cell_type": "code",
   "execution_count": null,
   "metadata": {},
   "outputs": [],
   "source": [
    "dataset = pd.read_csv(PATH_DATA+'/dataset.csv')"
   ]
  },
  {
   "cell_type": "code",
   "execution_count": null,
   "metadata": {},
   "outputs": [],
   "source": [
    "def analyze_scandale(dataframe, keywords) :\n",
    "    scandale_df = dataframe.copy()\n",
    "    for keyword in keywords :\n",
    "        scandale_df = scandale_df[scandale_df['tweet_text'].astype(str).str.contains(keyword)]\n",
    "\n",
    "    #scandale_df.shape\n",
    "    if scandale_df.shape[0] != 0 :\n",
    "        scandale_df['date'] = pd.to_datetime(scandale_df['tweet_time'], format='%Y/%m/%d %H:%M').dt.week\n",
    "        time_evolution = scandale_df[['date', 'tweet_text']].groupby('date').count()\n",
    "        time_evolution.plot.bar()\n",
    "        #plt.show()\n",
    "    else :\n",
    "        print('No text containing the following keywords : {}'.format(keywords))\n",
    "        \n",
    "    #return(time_evolution)"
   ]
  },
  {
   "cell_type": "markdown",
   "metadata": {},
   "source": [
    "### 6.2. Tweets classification\n",
    "\n",
    "Using the scandale above, we will plan to analyze the hashtags on the keyword described above. We will try to develop a method to classify the virality of a tweet.\n",
    "\n",
    "### 6.3 Impact on the voting intentions\n",
    "\n",
    "Using the voter survey, and the results above, we will try to see if the viral tweets described above have impacted the voting intentions or not."
   ]
  }
 ],
 "metadata": {
  "kernelspec": {
   "display_name": "Python 3",
   "language": "python",
   "name": "python3"
  },
  "language_info": {
   "codemirror_mode": {
    "name": "ipython",
    "version": 3
   },
   "file_extension": ".py",
   "mimetype": "text/x-python",
   "name": "python",
   "nbconvert_exporter": "python",
   "pygments_lexer": "ipython3",
   "version": "3.7.0"
  }
 },
 "nbformat": 4,
 "nbformat_minor": 2
}
