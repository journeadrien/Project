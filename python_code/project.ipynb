{
 "cells": [
  {
   "cell_type": "markdown",
   "metadata": {},
   "source": [
    "# Did Russia win the 2016 US elections ?"
   ]
  },
  {
   "cell_type": "markdown",
   "metadata": {},
   "source": [
    "## 1. Introduction\n",
    "\n",
    "On November 8th of 2016, the republican candidate Donald Trump becomes the 45th president of the USA. This does not correspond at all with all the opinions surveys made during the campaign, as according to them, it was supposed that Hillary Clinton win the elections. How could it possibly happen ?\n",
    "\n",
    "Social media platforms have taken a great importance in our modern society. Social networks such as Facebook, Twitter or LinkedIn have become very powerful tools to spread a message. They allow a direct connection between parties or companies and citizens, and recent events such as the Arab Spring have shown they can be used as a driving force. However, in such media which favor free expression, the control is weak or inexistant and thus fake information can spread quickly, against the social good.\n",
    "\n",
    "In order to see the impact social media can have on important social questions (such as US elections=, we chose the 3 Million Russian Troll Tweets dataset. This dataset contains tweets from the IRA (Internet Research Agency), which is a Russian company specialized in online propaganda to serve Russian interests. They notably ran a sophisticated and coordinated campaign to interfere in the 2016 US elections, supposedly to advocate against the democrat candidate Hillary Clinton. Our aim here is to to analyze Russia’s interference in these elections.\n",
    "\n",
    "In order to analyze the influence of Russia, we will go through different aspects. First, we will describe some main politics-related events that happened during the election. Secondly, we will describe the dataset, and show how we keep the relevent features. Then in a third time, we will try to analyze as much as possible the dataset, by showing the evolution of the main politic-related events, and analyze the proportion of tweet that have been posted against Trump's administration, and Clinton's administration.\n",
    "\n",
    "## 2. Main politics-related events during the elections\n",
    "During the US elections, many major events happened. \n",
    "\n",
    "### 2.1. Hillary Clinton's scandale :\n",
    "\n",
    "The first one, is the scandal about **Hillary Clinton's email**. Hillary Clinton used a private server to access her emails when she was Secretary of State. But FBI's chief (James Comey) announces 11 days before the elections, that new emails have been found. Donald Trump won't forget to use it in order to discredit the democrat candidate.\n",
    "\n",
    "The second one is about **Hillary's malaise**. On 11th septembre, at the commemoration ceremony, Hillary Clinton is forced to leave as she is not feeling good. A pneumonia is diagnosed. As Trump keep saying that somebody has to be strong to govern the state, he keep saying that Hillary Clinton is not strong enough to govern the USA.\n",
    "\n",
    "The third scandale happens when Hillary Clinton treats half of Trump's elector as pathetic people. As a revenge, Trump's try to attract some sympathy of everybody by ...\n",
    "\n",
    "The last one is the **pizzagate conspiracy theory**. Indeed, on 30th of October 2016, a tweet appears on twitter saying that there exists a pedophilia network around John Podesta, Hillary Clinton's compaign director. These tweets got quickly viral, and the hashtag Pizzagate appeared on November 7th on twitter (one day before the elections).\n",
    "\n",
    "### 2.2. Donald Trump's scandale :\n",
    "\n",
    "The first one is about a **2005 tape published by the Washington Post**. Donald Trump say sexist, and degrading words about women. This lead to some of his voters finally left his side.\n",
    "\n",
    "The second one is about **Donald Trump's taxes**. On begininning of October, the New York Times reveals that Donald Trump may have declared in a doubtful way the bankruptcy of his casino, which may have help to pay less taxes. Hillary Clinton won't forget to make comment about it and attacking about the fact that he may have paid nothing to support schools, or veterans.\n",
    "\n",
    "The last one happened when Donald Trump say disrespectful word about the father's of the army's captain, died in Irak in 2004. The public opinion has been disappointed about this event, which leads to many Republican to attack him.\n",
    "\n",
    "### 2.3. References\n",
    "https://www.rtl.fr/actu/international/presidentielle-americaine-2016-les-6-rebondissements-de-la-campagne-7785551696 <br/>\n",
    "https://en.wikipedia.org/wiki/Pizzagate_conspiracy_theory <br/>"
   ]
  },
  {
   "cell_type": "markdown",
   "metadata": {},
   "source": [
    "## 3. Import needed for the project"
   ]
  },
  {
   "cell_type": "code",
   "execution_count": 2,
   "metadata": {},
   "outputs": [],
   "source": [
    "import pandas as pd \n",
    "import glob\n",
    "import os\n",
    "import numpy as np\n",
    "import numpy.matlib\n",
    "import datetime\n",
    "import re\n",
    "import matplotlib.pyplot as plt\n",
    "\n",
    "PATH_DATA = \"../data\""
   ]
  },
  {
   "cell_type": "markdown",
   "metadata": {},
   "source": [
    "## 4. Dataset description\n",
    "\n",
    "The datasets are available at the follwing URL :\n",
    "* https://www.kaggle.com/fivethirtyeight/russian-troll-tweets : Dataset used at the beginning. Mainly used for development.\n",
    "* https://drive.google.com/open?id=1GBsVXYvPrGcYI-wR4mWGO39fly1TMqjO : Bigger datasets which is entirely dedicated to the US elections, and allow much more meaningful results.\n",
    "* https://www.kaggle.com/fivethirtyeight/2016-election-polls/home : Dataset corresponding to a voter survey between November 2015 and November 2016. We are not sure to use it for the moment.\n",
    "\n",
    "### 4.1. Small dataset from kaggle\n",
    "\n",
    "#### 4.1.1. Loading the dataset"
   ]
  },
  {
   "cell_type": "code",
   "execution_count": 4,
   "metadata": {},
   "outputs": [
    {
     "name": "stdout",
     "output_type": "stream",
     "text": [
      "******************************************************************\n",
      "The shape of the whole dataframe is the following : (2973371, 15)\n",
      "******************************************************************\n"
     ]
    },
    {
     "data": {
      "text/html": [
       "<div>\n",
       "<style scoped>\n",
       "    .dataframe tbody tr th:only-of-type {\n",
       "        vertical-align: middle;\n",
       "    }\n",
       "\n",
       "    .dataframe tbody tr th {\n",
       "        vertical-align: top;\n",
       "    }\n",
       "\n",
       "    .dataframe thead th {\n",
       "        text-align: right;\n",
       "    }\n",
       "</style>\n",
       "<table border=\"1\" class=\"dataframe\">\n",
       "  <thead>\n",
       "    <tr style=\"text-align: right;\">\n",
       "      <th></th>\n",
       "      <th>external_author_id</th>\n",
       "      <th>author</th>\n",
       "      <th>content</th>\n",
       "      <th>region</th>\n",
       "      <th>language</th>\n",
       "      <th>publish_date</th>\n",
       "      <th>harvested_date</th>\n",
       "      <th>following</th>\n",
       "      <th>followers</th>\n",
       "      <th>updates</th>\n",
       "      <th>post_type</th>\n",
       "      <th>account_type</th>\n",
       "      <th>new_june_2018</th>\n",
       "      <th>retweet</th>\n",
       "      <th>account_category</th>\n",
       "    </tr>\n",
       "  </thead>\n",
       "  <tbody>\n",
       "    <tr>\n",
       "      <th>0</th>\n",
       "      <td>9.060000e+17</td>\n",
       "      <td>10_GOP</td>\n",
       "      <td>\"We have a sitting Democrat US Senator on tria...</td>\n",
       "      <td>Unknown</td>\n",
       "      <td>English</td>\n",
       "      <td>10/1/2017 19:58</td>\n",
       "      <td>10/1/2017 19:59</td>\n",
       "      <td>1052</td>\n",
       "      <td>9636</td>\n",
       "      <td>253</td>\n",
       "      <td>NaN</td>\n",
       "      <td>Right</td>\n",
       "      <td>0</td>\n",
       "      <td>0</td>\n",
       "      <td>RightTroll</td>\n",
       "    </tr>\n",
       "    <tr>\n",
       "      <th>1</th>\n",
       "      <td>9.060000e+17</td>\n",
       "      <td>10_GOP</td>\n",
       "      <td>Marshawn Lynch arrives to game in anti-Trump s...</td>\n",
       "      <td>Unknown</td>\n",
       "      <td>English</td>\n",
       "      <td>10/1/2017 22:43</td>\n",
       "      <td>10/1/2017 22:43</td>\n",
       "      <td>1054</td>\n",
       "      <td>9637</td>\n",
       "      <td>254</td>\n",
       "      <td>NaN</td>\n",
       "      <td>Right</td>\n",
       "      <td>0</td>\n",
       "      <td>0</td>\n",
       "      <td>RightTroll</td>\n",
       "    </tr>\n",
       "    <tr>\n",
       "      <th>2</th>\n",
       "      <td>9.060000e+17</td>\n",
       "      <td>10_GOP</td>\n",
       "      <td>Daughter of fallen Navy Sailor delivers powerf...</td>\n",
       "      <td>Unknown</td>\n",
       "      <td>English</td>\n",
       "      <td>10/1/2017 22:50</td>\n",
       "      <td>10/1/2017 22:51</td>\n",
       "      <td>1054</td>\n",
       "      <td>9637</td>\n",
       "      <td>255</td>\n",
       "      <td>RETWEET</td>\n",
       "      <td>Right</td>\n",
       "      <td>0</td>\n",
       "      <td>1</td>\n",
       "      <td>RightTroll</td>\n",
       "    </tr>\n",
       "    <tr>\n",
       "      <th>3</th>\n",
       "      <td>9.060000e+17</td>\n",
       "      <td>10_GOP</td>\n",
       "      <td>JUST IN: President Trump dedicates Presidents ...</td>\n",
       "      <td>Unknown</td>\n",
       "      <td>English</td>\n",
       "      <td>10/1/2017 23:52</td>\n",
       "      <td>10/1/2017 23:52</td>\n",
       "      <td>1062</td>\n",
       "      <td>9642</td>\n",
       "      <td>256</td>\n",
       "      <td>NaN</td>\n",
       "      <td>Right</td>\n",
       "      <td>0</td>\n",
       "      <td>0</td>\n",
       "      <td>RightTroll</td>\n",
       "    </tr>\n",
       "    <tr>\n",
       "      <th>4</th>\n",
       "      <td>9.060000e+17</td>\n",
       "      <td>10_GOP</td>\n",
       "      <td>19,000 RESPECTING our National Anthem! #StandF...</td>\n",
       "      <td>Unknown</td>\n",
       "      <td>English</td>\n",
       "      <td>10/1/2017 2:13</td>\n",
       "      <td>10/1/2017 2:13</td>\n",
       "      <td>1050</td>\n",
       "      <td>9645</td>\n",
       "      <td>246</td>\n",
       "      <td>RETWEET</td>\n",
       "      <td>Right</td>\n",
       "      <td>0</td>\n",
       "      <td>1</td>\n",
       "      <td>RightTroll</td>\n",
       "    </tr>\n",
       "  </tbody>\n",
       "</table>\n",
       "</div>"
      ],
      "text/plain": [
       "   external_author_id  author  \\\n",
       "0        9.060000e+17  10_GOP   \n",
       "1        9.060000e+17  10_GOP   \n",
       "2        9.060000e+17  10_GOP   \n",
       "3        9.060000e+17  10_GOP   \n",
       "4        9.060000e+17  10_GOP   \n",
       "\n",
       "                                             content   region language  \\\n",
       "0  \"We have a sitting Democrat US Senator on tria...  Unknown  English   \n",
       "1  Marshawn Lynch arrives to game in anti-Trump s...  Unknown  English   \n",
       "2  Daughter of fallen Navy Sailor delivers powerf...  Unknown  English   \n",
       "3  JUST IN: President Trump dedicates Presidents ...  Unknown  English   \n",
       "4  19,000 RESPECTING our National Anthem! #StandF...  Unknown  English   \n",
       "\n",
       "      publish_date   harvested_date  following  followers  updates post_type  \\\n",
       "0  10/1/2017 19:58  10/1/2017 19:59       1052       9636      253       NaN   \n",
       "1  10/1/2017 22:43  10/1/2017 22:43       1054       9637      254       NaN   \n",
       "2  10/1/2017 22:50  10/1/2017 22:51       1054       9637      255   RETWEET   \n",
       "3  10/1/2017 23:52  10/1/2017 23:52       1062       9642      256       NaN   \n",
       "4   10/1/2017 2:13   10/1/2017 2:13       1050       9645      246   RETWEET   \n",
       "\n",
       "  account_type  new_june_2018  retweet account_category  \n",
       "0        Right              0        0       RightTroll  \n",
       "1        Right              0        0       RightTroll  \n",
       "2        Right              0        1       RightTroll  \n",
       "3        Right              0        0       RightTroll  \n",
       "4        Right              0        1       RightTroll  "
      ]
     },
     "execution_count": 4,
     "metadata": {},
     "output_type": "execute_result"
    }
   ],
   "source": [
    "filenames = glob.glob(os.path.join(PATH_DATA, \"IRAhandle_tweets_*.csv\"))\n",
    "kaggle_df = pd.concat((pd.read_csv(f) for f in filenames))\n",
    "print('*'*66)\n",
    "print('The shape of the whole dataframe is the following : {}'.format(kaggle_df.shape))\n",
    "print('*'*66)\n",
    "kaggle_df.head()"
   ]
  },
  {
   "cell_type": "markdown",
   "metadata": {},
   "source": [
    "### 4.1.2. Description of the dataset\n",
    "\n",
    "#### 4.1.2.1 Small dataset from kaggle\n",
    "\n",
    "The IRAhandle_tweets dataset, is the given dataset collected by the Internet Research Agency.\n",
    "\n",
    "The dataset has different columns :\n",
    "\n",
    "* `external_author_id` : Account id of the tweet publisher\n",
    "* `author` : Name of the author of the tweet\n",
    "* `content` : The text of the tweet\n",
    "* `region` : Region classification\n",
    "* `language` : The language of the tweet\n",
    "* `publish_date` : The date and time when the tweet was published\n",
    "* `harvested_date` : The date and time the tweet was collected by Social Studio\n",
    "* `following` : The number of accounts the author was following (when he published the tweet)\n",
    "* `followers` : The number of people following the author was following (when he published the tweet)\n",
    "* `updates` : The number of “update actions” on the account that authored the tweet, including tweets, retweets and likes\n",
    "* `post_type` : Indicator if the tweet is a quote tweet or a retweet\n",
    "* `account_type` : Specific account theme, as coded by Linvill and Warren\n",
    "* `retweet` : Indicator (binary) if the tweet is a retweet or not\n",
    "* `account_category` : General account theme, as coded by Linvill and Warren\n",
    "* `new_june_2018` : A binary indicator of whether the author was newly listed in June 2018"
   ]
  },
  {
   "cell_type": "code",
   "execution_count": 5,
   "metadata": {},
   "outputs": [
    {
     "data": {
      "text/plain": [
       "external_author_id    float64\n",
       "author                 object\n",
       "content                object\n",
       "region                 object\n",
       "language               object\n",
       "publish_date           object\n",
       "harvested_date         object\n",
       "following               int64\n",
       "followers               int64\n",
       "updates                 int64\n",
       "post_type              object\n",
       "account_type           object\n",
       "new_june_2018           int64\n",
       "retweet                 int64\n",
       "account_category       object\n",
       "dtype: object"
      ]
     },
     "execution_count": 5,
     "metadata": {},
     "output_type": "execute_result"
    }
   ],
   "source": [
    "kaggle_df.dtypes"
   ]
  },
  {
   "cell_type": "markdown",
   "metadata": {},
   "source": [
    "##### 4.1.2.1.1 Proportion of quote tweet per region/language/account category"
   ]
  },
  {
   "cell_type": "code",
   "execution_count": 7,
   "metadata": {},
   "outputs": [
    {
     "data": {
      "image/png": "[encoded data removed]",
      "text/plain": [
       "<Figure size 1152x288 with 1 Axes>"
      ]
     },
     "metadata": {
      "needs_background": "light"
     },
     "output_type": "display_data"
    },
    {
     "data": {
      "image/png": "[encoded data removed]",
      "text/plain": [
       "<Figure size 1152x288 with 1 Axes>"
      ]
     },
     "metadata": {
      "needs_background": "light"
     },
     "output_type": "display_data"
    },
    {
     "data": {
      "image/png": "[encoded data removed]",
      "text/plain": [
       "<Figure size 1152x288 with 1 Axes>"
      ]
     },
     "metadata": {
      "needs_background": "light"
     },
     "output_type": "display_data"
    }
   ],
   "source": [
    "# Select only the quote tweet\n",
    "quote_tweet_df = kaggle_df.loc[kaggle_df['post_type'] == 'QUOTE_TWEET']\n",
    "\n",
    "# Plot the number of quote tweet per region\n",
    "fig, ax = plt.subplots(1, 1, figsize=(16, 4))\n",
    "ax = quote_tweet_df['region'].value_counts().plot.bar()\n",
    "ax.set_xlabel('region')\n",
    "ax.set_ylabel('count')\n",
    "ax.set_title('Number of quote tweet per region')\n",
    "\n",
    "# Plot the number of quote tweet per language\n",
    "fig, ax = plt.subplots(1, 1, figsize=(16, 4))\n",
    "ax = quote_tweet_df['language'].value_counts().plot.bar()\n",
    "ax.set_xlabel('language')\n",
    "ax.set_ylabel('count')\n",
    "ax.set_title('Number of quote tweet per language')\n",
    "\n",
    "# Plot the number of quote tweet per account category\n",
    "fig, ax = plt.subplots(1, 1, figsize=(16, 4))\n",
    "ax = quote_tweet_df['account_category'].value_counts().plot.bar()\n",
    "ax.set_xlabel('account category')\n",
    "ax.set_ylabel('count')\n",
    "ax.set_title('Number of quote tweet per language')\n",
    "\n",
    "plt.show()"
   ]
  },
  {
   "cell_type": "markdown",
   "metadata": {},
   "source": [
    "##### 4.1.2.1.2 Proportion of all tweets (including the retweet) per region/language\n",
    "\n",
    "In order to see the proportion of tweet corresponding to different features, and to see how we will use the dataset, we will first see how many tweets per region, language and hashtags category have been posted."
   ]
  },
  {
   "cell_type": "code",
   "execution_count": 19,
   "metadata": {},
   "outputs": [
    {
     "data": {
      "image/png": "[encoded data removed]",
      "text/plain": [
       "<Figure size 1152x288 with 1 Axes>"
      ]
     },
     "metadata": {
      "needs_background": "light"
     },
     "output_type": "display_data"
    },
    {
     "data": {
      "image/png": "[encoded data removed]",
      "text/plain": [
       "<Figure size 1152x288 with 1 Axes>"
      ]
     },
     "metadata": {
      "needs_background": "light"
     },
     "output_type": "display_data"
    },
    {
     "data": {
      "image/png": "[encoded data removed]",
      "text/plain": [
       "<Figure size 1152x288 with 1 Axes>"
      ]
     },
     "metadata": {
      "needs_background": "light"
     },
     "output_type": "display_data"
    }
   ],
   "source": [
    "# Plot the number of tweet per region\n",
    "fig, ax = plt.subplots(1, 1, figsize=(16, 4))\n",
    "ax = kaggle_df['region'].value_counts().plot.bar()\n",
    "ax.set_xlabel('region')\n",
    "ax.set_ylabel('count')\n",
    "ax.set_title('Number of tweet per region')\n",
    "\n",
    "# Plot the number of tweet per language\n",
    "fig, ax = plt.subplots(1, 1, figsize=(16, 4))\n",
    "ax = kaggle_df['language'].value_counts().plot.bar()\n",
    "ax.set_xlabel('language')\n",
    "ax.set_ylabel('count')\n",
    "ax.set_title('Number of tweet per language')\n",
    "\n",
    "# Plot the number of tweet per account category\n",
    "fig, ax = plt.subplots(1, 1, figsize=(16, 4))\n",
    "ax = kaggle_df['account_category'].value_counts().plot.bar()\n",
    "ax.set_xlabel('account category')\n",
    "ax.set_ylabel('count')\n",
    "ax.set_title('Number of tweet per account category')\n",
    "\n",
    "plt.show()"
   ]
  },
  {
   "cell_type": "markdown",
   "metadata": {},
   "source": [
    "In this dataset, we can see that most of the tweets come from the US, and are published in english. This means, that we will keep at least ~200000 tweets for our analysis using this dataset. The main advantage of this dataset, is the classification made by Linvill and Warren, indicating us if the tweet corresponds to a right troll or a left troll (which is very useful in our analysis)."
   ]
  },
  {
   "cell_type": "markdown",
   "metadata": {},
   "source": [
    "#### 4.1.2.1.3 NaN and unique values for each column of the dataset\n",
    "\n",
    "To see how to clean this dataset, we first have to see what each column contains (values, number of unknown values, Nan or null values)."
   ]
  },
  {
   "cell_type": "code",
   "execution_count": 23,
   "metadata": {
    "scrolled": false
   },
   "outputs": [
    {
     "name": "stdout",
     "output_type": "stream",
     "text": [
      "**********************************************************************\n",
      "Region description : \n",
      "\n",
      "The different regions are : \n",
      " ['Unknown' nan 'United States' 'Italy' 'United Arab Emirates' 'Japan'\n",
      " 'Israel' 'Azerbaijan' 'Egypt' 'United Kingdom' 'Russian Federation'\n",
      " 'Turkey' 'Iraq' 'Germany' 'France' 'Ukraine' 'Serbia' 'Hong Kong'\n",
      " 'Austria' 'Belarus' 'Malaysia' 'Spain' 'Samoa' 'India' 'Afghanistan'\n",
      " 'Saudi Arabia' 'Iran, Islamic Republic of' 'Mexico' 'Canada' 'Greece'\n",
      " 'Czech Republic' 'Finland' 'Latvia' 'Estonia' 'Sweden' 'Denmark'\n",
      " 'Switzerland']\n",
      "\n",
      "The number of null values is : 8843 (0.29740654630720487 %)\n",
      "The number of unknown values is : 572767 (19.263220095978607 %)\n",
      "Number of tweets from US : 2055882 (69.14313753648636 %) of the dataset\n",
      "**********************************************************************\n",
      "Language description : \n",
      "\n",
      "The different languages are : \n",
      " ['English' 'Russian' 'Serbian' 'Ukrainian' 'Tagalog (Filipino)' 'Albanian'\n",
      " 'Italian' 'Romanian' 'Spanish' 'Catalan' 'German' 'Estonian' 'French'\n",
      " 'Norwegian' 'Vietnamese' 'Dutch' 'Arabic' 'Uzbek' 'Bulgarian'\n",
      " 'Macedonian' 'Farsi (Persian)' 'Turkish' 'LANGUAGE UNDEFINED' 'Czech'\n",
      " 'Somali' 'Lithuanian' 'Croatian' 'Slovak' 'Icelandic' 'Slovenian'\n",
      " 'Japanese' 'Indonesian' 'Pushto' 'Hungarian' 'Finnish' 'Latvian'\n",
      " 'Portuguese' 'Danish' 'Swedish' 'Malay' 'Polish' 'Korean' 'Hebrew' 'Urdu'\n",
      " 'Kurdish' 'Hindi' 'Greek' 'Simplified Chinese' 'Thai' 'Bengali'\n",
      " 'Traditional Chinese' 'Gujarati' 'Kannada' 'Tamil' 'Telugu' 'Malayalam']\n",
      "\n",
      "The number of LANGUAGE UNDEFINED is : 8325 (0.2799852423394188 %)\n",
      "Number of english tweets : 2128963 (71.60098756596469 %) of the dataset\n",
      "**********************************************************************\n",
      "Post type description : \n",
      "\n",
      "The different post types are : \n",
      " [nan 'RETWEET' 'QUOTE_TWEET']\n",
      "\n",
      "The number of null values is : 1662425 (55.91044642595895 %)\n",
      "**********************************************************************\n",
      "Account type description : \n",
      "\n",
      "The different account types are : \n",
      " ['Right' 'Russian' 'Koch' 'Italian' 'left' '?' 'German' 'Spanish'\n",
      " 'Hashtager' 'Arabic' 'local' 'Commercial' 'French' 'Ukranian'\n",
      " 'ZAPOROSHIA' 'news' 'right' 'Uzbek' 'Ebola ' nan 'Portuguese']\n",
      "\n",
      "The number of null values is : 363 (0.012208365521826909 %)\n",
      "The number of ? is : 13542 (0.45544266087212126 %)\n",
      "**********************************************************************\n",
      "Account category description : \n",
      "\n",
      "The different account categories are : \n",
      " ['RightTroll' 'NonEnglish' 'Fearmonger' 'LeftTroll' 'Unknown'\n",
      " 'HashtagGamer' 'NewsFeed' 'Commercial']\n",
      "The number of unknown values is : 13905 (0.4676510263939481 %)\n",
      "**********************************************************************\n",
      "Retweet description : \n",
      "\n",
      "The different values for retweet are : \n",
      " [0 1]\n",
      "The number of null values is : 0 (0.0 %)\n",
      "**********************************************************************\n",
      "Dates description : \n",
      "\n",
      "The minimum date in the dataset is 1/1/2013 16:16\n",
      "The maximum date in the dataset is 9/9/2017 9:51\n",
      "\n",
      "The number of null date values is : 0 (0.0 %)\n",
      "**********************************************************************\n"
     ]
    }
   ],
   "source": [
    "# Region\n",
    "print('*'*70+'\\nRegion description : \\n')\n",
    "print('The different regions are : \\n {}'.format(kaggle_df['region'].unique()))\n",
    "N_null = kaggle_df['region'].isnull().sum()\n",
    "percentage = float(N_null)/float(kaggle_df.shape[0])\n",
    "print('\\nThe number of null values is : {} ({} %)'.format(N_null, 100*percentage))\n",
    "N_null = kaggle_df[kaggle_df['region'] == 'Unknown'].shape[0]\n",
    "percentage = float(N_null)/float(kaggle_df.shape[0])\n",
    "print('The number of unknown values is : {} ({} %)'.format(N_null, 100*percentage))\n",
    "N_us = kaggle_df[kaggle_df['region'] == 'United States'].shape[0]\n",
    "print('Number of tweets from US : {} ({} %) of the dataset'.format(N_us, 100*\\\n",
    "                                                           float(N_us)/float(kaggle_df.shape[0])))\n",
    "\n",
    "# Language\n",
    "print('*'*70+'\\nLanguage description : \\n')\n",
    "print('The different languages are : \\n {}'.format(kaggle_df['language'].unique()))\n",
    "N_null = kaggle_df[kaggle_df['language'] == 'LANGUAGE UNDEFINED'].shape[0]\n",
    "percentage = float(N_null)/float(kaggle_df.shape[0])\n",
    "print('\\nThe number of LANGUAGE UNDEFINED is : {} ({} %)'.format(N_null, 100*percentage))\n",
    "N_english = kaggle_df[kaggle_df['language'] == 'English'].shape[0]\n",
    "print('Number of english tweets : {} ({} %) of the dataset'.format(N_english, 100*\\\n",
    "                                                           float(N_english)/float(kaggle_df.shape[0])))\n",
    "\n",
    "# Post type\n",
    "print('*'*70+'\\nPost type description : \\n')\n",
    "print('The different post types are : \\n {}'.format(kaggle_df['post_type'].unique()))\n",
    "N_null = kaggle_df['post_type'].isnull().sum()\n",
    "percentage = float(N_null)/float(kaggle_df.shape[0])\n",
    "print('\\nThe number of null values is : {} ({} %)'.format(N_null, 100*percentage))\n",
    "\n",
    "# Account type\n",
    "print('*'*70+'\\nAccount type description : \\n')\n",
    "print('The different account types are : \\n {}'.format(kaggle_df['account_type'].unique()))\n",
    "N_null = kaggle_df['account_type'].isnull().sum()\n",
    "percentage = float(N_null)/float(kaggle_df.shape[0])\n",
    "print('\\nThe number of null values is : {} ({} %)'.format(N_null, 100*percentage))\n",
    "N_null = kaggle_df[kaggle_df['account_type'] == '?'].shape[0]\n",
    "percentage = float(N_null)/float(kaggle_df.shape[0])\n",
    "print('The number of ? is : {} ({} %)'.format(N_null, 100*percentage))\n",
    "\n",
    "# Account category\n",
    "print('*'*70+'\\nAccount category description : \\n')\n",
    "print('The different account categories are : \\n {}'.format(kaggle_df['account_category'].unique()))\n",
    "N_null = kaggle_df[kaggle_df['account_category'] == 'Unknown'].shape[0]\n",
    "percentage = float(N_null)/float(kaggle_df.shape[0])\n",
    "print('The number of unknown values is : {} ({} %)'.format(N_null, 100*percentage))\n",
    "\n",
    "# Retweet\n",
    "print('*'*70+'\\nRetweet description : \\n')\n",
    "print('The different values for retweet are : \\n {}'.format(kaggle_df['retweet'].unique()))\n",
    "N_null = kaggle_df['retweet'].isnull().sum()\n",
    "percentage = float(N_null)/float(kaggle_df.shape[0])\n",
    "print('The number of null values is : {} ({} %)'.format(N_null, 100*percentage))\n",
    "\n",
    "# Dates\n",
    "print('*'*70+'\\nDates description : \\n')\n",
    "print('The minimum date in the dataset is {}'.format(kaggle_df['publish_date'].min()))\n",
    "print('The maximum date in the dataset is {}'.format(kaggle_df['publish_date'].max()))\n",
    "N_null = kaggle_df['publish_date'].isnull().sum()\n",
    "percentage = float(N_null)/float(kaggle_df.shape[0])\n",
    "print('\\nThe number of null date values is : {} ({} %)'.format(N_null, 100*percentage))\n",
    "\n",
    "print('*'*70)"
   ]
  },
  {
   "cell_type": "markdown",
   "metadata": {},
   "source": [
    "When reading the results above, we can see that if we only keep the interesting language (english), we will only keep 71.6 % of the dataset, which corresponds to about 210000 tweets. We can see (given the analysis of the columns) that a cleaning is not necessary, as all the columns have almost no null values. The only problem can come from the post_type column, but as the column 'retweet' gives us enough informations about the post_type, the only thing to do is to modify the post_type column according to the column 'retweet'."
   ]
  },
  {
   "cell_type": "markdown",
   "metadata": {},
   "source": [
    "### 4.2. Dataset from tweeter\n",
    "\n",
    "#### 4.2.1. Loading the dataset\n",
    "\n",
    "The rus_troll_tweets dataset, is a subsample (1%) of the total tweets that have been posted by russian account during the elections (till now).\n",
    "\n",
    "The dataset has different files :\n",
    "\n",
    "`rus_troll_user.csv` : Contains the user features (nickname, description field, follower count, ...) <br/>\n",
    "`rus_troll_tweet_text.csv`: Contains the text, and language of each tweet. This is the one we will use to analyse some recurrent text apparition, etc <br/>\n",
    "`rus_troll_tweet_metadata.csv`: Contains features that are user specific for each tweet <br/>\n",
    "`rus_troll_tweet_stats.csv`: Contains other tweet features (retweet number, quoted number, ...) <br/>\n",
    "\n",
    "The column that can appear in each file are descripted below :\n",
    "* `tweetid` : the id of the tweet (for identification purpose)\n",
    "* `userid` : the id of the user\n",
    "* `user_display_name` : the name of the user (encoded for anonymized users)\n",
    "* `user_screen_name` : Twitter name of the user (encoded for anonymized users)\n",
    "* `user_reported_location` : location of the user (self-reported) (at the moment of the tweet)\n",
    "* `user_profile description` : description of the user's profile (at the moment of the tweet)\n",
    "* `user_profile_url` : Profil URL of the user (at the moment of the tweet)\n",
    "* `follower_count` : Number of people following the author (at the moment of the tweet)\n",
    "* `following_count` : Number of people the author is following (at the moment of the tweet)\n",
    "* `account_creation_date` : time and date of the account creation\n",
    "* `account_language` : language of the account (chosen by the user)\n",
    "* `tweet_language` : language of the tweet\n",
    "* `tweet_text` : content of the tweet (mentions to anonymized accounts have been replaced with anonymized userid)\n",
    "* `tweet_time` : time when the tweet was published\n",
    "* `tweet_client_name` : name of the client app used to publish the tweet\n",
    "* `in_reply_to_tweetid` : the tweetid of the original tweet (if the tweet is reply to another one) (only for replies)\n",
    "* `in_reply_to_userid` : the userid of the original tweet (if the tweet is reply to another one) (only for replies)\n",
    "* `quoted_tweet_tweetid` : tweetid of the original tweet (if the tweet is a quote of another one) (only for quotes)\n",
    "* `is_retweet` : indicates if the tweet is a retweet or not (binary)\n",
    "* `retweet_userid` : userid who published the original tweet (retweets only)\n",
    "* `retweet_tweetid` : tweetid of the original tweet (retweets only)\n",
    "* `latitude` : geo-located latitude (if available)\n",
    "* `longitude` : geo-located longitude (if available)\n",
    "* `quote_count` : number of tweets quoting the tweet\n",
    "* `reply_count` : number of tweets replying to the tweet\n",
    "* `like_count` : number of like of the tweet\n",
    "* `retweet_count` : number of retweet of the tweet\n",
    "* `hashtags` : list of hashtags contained in the tweet\n",
    "* `urls` : list of urls contained in the tweet\n",
    "* `user_mentions` : list of userid mentionned in the tweet (anonymized included)\n",
    "* `poll_choices` : poll choices (if the tweet includes a poll)"
   ]
  },
  {
   "cell_type": "code",
   "execution_count": 24,
   "metadata": {
    "scrolled": false
   },
   "outputs": [
    {
     "name": "stderr",
     "output_type": "stream",
     "text": [
      "C:\\Users\\LioQuik\\Anaconda3\\lib\\site-packages\\IPython\\core\\interactiveshell.py:2785: DtypeWarning: Columns (16) have mixed types. Specify dtype option on import or set low_memory=False.\n",
      "  interactivity=interactivity, compiler=compiler, result=result)\n"
     ]
    },
    {
     "name": "stdout",
     "output_type": "stream",
     "text": [
      "******************************************************************\n",
      "The shape of the user dataframe is : (3667, 11)\n",
      "The shape of the metadata dataframe is : (9041308, 6)\n",
      "The shape of the stats dataframe is : (9041308, 17)\n",
      "The shape of the text dataframe is : (9041308, 3)\n",
      "******************************************************************\n"
     ]
    }
   ],
   "source": [
    "user_df = pd.read_csv(PATH_DATA + '/rus_troll_user.csv')\n",
    "metadata_df = pd.read_csv(PATH_DATA + '/rus_troll_tweet_metadata.csv')\n",
    "stats_df = pd.read_csv(PATH_DATA + '/rus_troll_tweet_stats.csv')\n",
    "text_df = pd.read_csv(PATH_DATA + '/rus_troll_tweet_text.csv')\n",
    "\n",
    "print('*'*66)\n",
    "print('The shape of the user dataframe is : {}'.format(user_df.shape))\n",
    "print('The shape of the metadata dataframe is : {}'.format(metadata_df.shape))\n",
    "print('The shape of the stats dataframe is : {}'.format(stats_df.shape))\n",
    "print('The shape of the text dataframe is : {}'.format(text_df.shape))\n",
    "print('*'*66)"
   ]
  },
  {
   "cell_type": "markdown",
   "metadata": {},
   "source": [
    "#### 4.2.2. Dataset description\n",
    "To understand what fields are contained in each csv files, and what files we may need, we can first plot the columns of each dataframe :"
   ]
  },
  {
   "cell_type": "code",
   "execution_count": 7,
   "metadata": {},
   "outputs": [
    {
     "name": "stdout",
     "output_type": "stream",
     "text": [
      "**********************************************************************\n",
      "user dataframe : \n",
      "\n",
      "The fields for user dataframe are : \n",
      "['userid', 'user_display_name', 'user_screen_name', 'user_reported_location', 'user_profile_description', 'user_profile_url', 'account_creation_date', 'account_language', 'follower_count', 'following_count', 'last_tweet_at']\n",
      "**********************************************************************\n",
      "metadata dataframe : \n",
      "\n",
      "The fields for user dataframe are : \n",
      "['tweetid', 'follower_count', 'following_count', 'latitude', 'longitude', 'tweet_client_name']\n",
      "**********************************************************************\n",
      "stats dataframe : \n",
      "\n",
      "The fields for user dataframe are : \n",
      "['tweetid', 'userid', 'tweet_time', 'in_reply_to_tweetid', 'in_reply_to_userid', 'quoted_tweet_tweetid', 'is_retweet', 'retweet_userid', 'retweet_tweetid', 'quote_count', 'reply_count', 'like_count', 'retweet_count', 'hashtags', 'urls', 'user_mentions', 'poll_choices']\n",
      "**********************************************************************\n",
      "text dataframe : \n",
      "\n",
      "The fields for user dataframe are : \n",
      "['tweetid', 'tweet_language', 'tweet_text']\n",
      "**********************************************************************\n",
      "text dataframe : \n",
      "\n",
      "The number of tweets are for : \n",
      "metadata: 9041308 \n",
      "stats: 9041308 \n",
      "text: 9041308\n",
      "**********************************************************************\n"
     ]
    }
   ],
   "source": [
    "# user\n",
    "print('*'*70+'\\nuser dataframe : \\n')\n",
    "print('The fields for user dataframe are : \\n{}'.format(user_df.columns.tolist()))\n",
    "\n",
    "# metadata\n",
    "print('*'*70+'\\nmetadata dataframe : \\n')\n",
    "print('The fields for metadata dataframe are : \\n{}'.format(metadata_df.columns.tolist()))\n",
    "\n",
    "# stats\n",
    "print('*'*70+'\\nstats dataframe : \\n')\n",
    "print('The fields for stats dataframe are : \\n{}'.format(stats_df.columns.tolist()))\n",
    "\n",
    "# text\n",
    "print('*'*70+'\\ntext dataframe : \\n')\n",
    "print('The fields for text dataframe are : \\n{}'.format(text_df.columns.tolist()))\n",
    "\n",
    "# number of tweets\n",
    "print('*'*70)\n",
    "print('\\nThe number of tweets are for : \\nmetadata: {} \\nstats: {} \\ntext: {}'.\\\n",
    "      format(metadata_df.shape[0],stats_df.shape[0],text_df.shape[0]))\n",
    "\n",
    "print('*'*70)"
   ]
  },
  {
   "cell_type": "markdown",
   "metadata": {},
   "source": [
    "We can see here that we have a total of about 9M of tweets for a total of about 4k of users, and given the columns of each dataframe, we can choose the columns we want to keep for our analysis.\n",
    "\n",
    "For the stats dataframe :\n",
    "* `tweetid`\n",
    "* `userid`\n",
    "* `tweet_time`\n",
    "* `in_reply_to_tweetid`\n",
    "* `in_reply_to_userid`\n",
    "* `quoted_tweet_tweetid`\n",
    "* `is_retweet`\n",
    "* `retweet_userid`\n",
    "* `retweet_tweetid`\n",
    "* `quote_count`\n",
    "* `reply_count`\n",
    "* `like_count`\n",
    "* `retweet_count`\n",
    "* `hashtags`\n",
    "\n",
    "For the text dataframe :\n",
    "* `tweetid`\n",
    "* `twee_language`\n",
    "* `tweet_text`\n",
    "\n",
    "For the metadata dataframe :\n",
    "* `tweetid`\n",
    "* `follower_count`\n",
    "* `following_count`\n",
    "* `latitude`\n",
    "* `longitude`\n",
    "* `tweet_client_name`\n",
    "\n",
    "As for the moment, our analysis in not based on the users, we don't need the user dataframe. But depending on the future features we might need, it is possible that we finally use this dataframe."
   ]
  },
  {
   "cell_type": "markdown",
   "metadata": {},
   "source": [
    "##### 4.2.2.1 Proportion of tweet per language"
   ]
  },
  {
   "cell_type": "code",
   "execution_count": 27,
   "metadata": {},
   "outputs": [
    {
     "name": "stdout",
     "output_type": "stream",
     "text": [
      "***************************************************************************\n",
      "Number of tweet in english : 3261931 (36.07808737408349 % of the dataset)\n",
      "***************************************************************************\n"
     ]
    },
    {
     "data": {
      "image/png": "[encoded data removed]",
      "text/plain": [
       "<Figure size 1152x288 with 1 Axes>"
      ]
     },
     "metadata": {
      "needs_background": "light"
     },
     "output_type": "display_data"
    }
   ],
   "source": [
    "# Plot the number of quote tweet per language\n",
    "fig, ax = plt.subplots(1, 1, figsize=(16, 4))\n",
    "ax = text_df['tweet_language'].value_counts().plot.bar()\n",
    "ax.set_xlabel('language')\n",
    "ax.set_ylabel('count')\n",
    "ax.set_title('Number of tweet per language')\n",
    "\n",
    "# number of tweets\n",
    "N_english = text_df[text_df['tweet_language'] == 'en'].shape[0]\n",
    "print('*'*75)\n",
    "print('Number of tweet in english : {} ({} % of the dataset)'.format(N_english, 100*\\\n",
    "                                                     float(N_english)/float(text_df['tweet_language'].shape[0])))\n",
    "\n",
    "print('*'*75)\n",
    "\n",
    "plt.show()"
   ]
  },
  {
   "cell_type": "markdown",
   "metadata": {},
   "source": [
    "##### 4.2.2.2 Proportion of quote tweet, reply, retweet and requote\n",
    "First, as we want to study only english tweets, we will directly selecting the english tweets from the dataframes and keeping only the features we want, as it will help us to gain in space for computations later."
   ]
  },
  {
   "cell_type": "code",
   "execution_count": null,
   "metadata": {},
   "outputs": [],
   "source": [
    "text_df = pd.read_csv(PATH_DATA + '/rus_troll_tweet_text.csv')\n",
    "text_df = text_df.loc[text_df['tweet_language'] == 'en']\n",
    "stats_df = pd.read_csv(PATH_DATA + '/rus_troll_tweet_stats.csv', usecols = ['tweetid', 'userid', 'tweet_time', \n",
    "        'in_reply_to_tweetid', 'in_reply_to_userid', 'quoted_tweet_tweetid', 'is_retweet', 'retweet_userid', \n",
    "        'retweet_tweetid', 'quote_count', 'reply_count', 'like_count', 'retweet_count', 'hashtags'])\n",
    "dataset = text_df.merge(stats_df,how = 'inner', on = 'tweetid')\n",
    "metadata_df = pd.read_csv(PATH_DATA + '/rus_troll_tweet_metadata.csv')\n",
    "dataset = dataset.merge(metadata_df,how = 'inner', on = 'tweetid')\n",
    "\n",
    "dataset.head()"
   ]
  },
  {
   "cell_type": "code",
   "execution_count": null,
   "metadata": {},
   "outputs": [],
   "source": [
    "dataset['tweet_type'] = 'original'\n",
    "reply_index = (dataset['in_reply_to_tweetid'].notnull()) | (dataset['in_reply_to_userid'].notnull())\n",
    "retweet_index = (dataset['is_retweet'] == True) & (dataset['quoted_tweet_tweetid'].isnull())\n",
    "requoted_index = (dataset['is_retweet'] == True) & (dataset['quoted_tweet_tweetid'].notnull())\n",
    "dataset.loc[reply_index,'tweet_type'] = 'reply'\n",
    "dataset.loc[retweet_index ,'tweet_type'] = 'retweet'\n",
    "dataset.loc[requoted_index,'tweet_type'] = 'requoted'\n",
    "plt.pie([reply_index.sum(),retweet_index.sum(),requoted_index.sum(),(dataset['tweet_type'] == 'original').sum()],\n",
    "        labels=['reply','retweet','requoted','original tweets'],autopct='%1.1f%%', shadow=True, startangle=140)\n",
    "plt.axis('equal')\n",
    "plt.show()"
   ]
  },
  {
   "cell_type": "markdown",
   "metadata": {},
   "source": [
    "##### 4.2.2.3  NaN and unique values for each column of the dataset"
   ]
  },
  {
   "cell_type": "code",
   "execution_count": null,
   "metadata": {},
   "outputs": [],
   "source": [
    "\"\"\"for feature in stats_df.columns:\n",
    "    print('For the feature : %s' %(feature ))\n",
    "    N_null = stats_df[feature].isnull().sum()\n",
    "    percentage = float(N_null)/float(stats_df.shape[0])\n",
    "    print('The number of null values is : {} ({} %)'.format(N_null, 100*percentage))\n",
    "print(stats_df.columns.tolist())\n",
    "stats_df.head()\"\"\"\n",
    "\n",
    "dataset.columns.tolist()"
   ]
  },
  {
   "cell_type": "markdown",
   "metadata": {},
   "source": [
    "### 4.3 Voters survey"
   ]
  },
  {
   "cell_type": "code",
   "execution_count": null,
   "metadata": {},
   "outputs": [],
   "source": []
  },
  {
   "cell_type": "markdown",
   "metadata": {},
   "source": [
    "## 5. Cleaning the datasets"
   ]
  },
  {
   "cell_type": "markdown",
   "metadata": {},
   "source": [
    "In order to use the dataset, we first have to clean it. For this purpose, we will study, and select only certain row according to the following criteriae :\n",
    "* First, we suppose that only the english tweet will be used. Indeed, as the disinformation is supposed to be done in USA, it is relevant to keep only the tweet that have been posted in english.\n",
    "* Second, Donald Trump has been elected officially the 19th of december 2016. As the primary to these elections have begun on february the same year, it can be relevant to keep an interval of one year before the elections date.\n",
    "* Thirdly, some tweets are posted in one sentence, delimited by capital letters. In this case, the one word sentences have to be separated to help the research in a easier manner. However, alle the tweets can be posted with capital letters, so, for easier computations, it is more relevant to cast them in only lowercase sentences.\n",
    "\n",
    "### 5.1. Kaggle dataset"
   ]
  },
  {
   "cell_type": "code",
   "execution_count": 11,
   "metadata": {},
   "outputs": [
    {
     "data": {
      "text/html": [
       "<div>\n",
       "<style scoped>\n",
       "    .dataframe tbody tr th:only-of-type {\n",
       "        vertical-align: middle;\n",
       "    }\n",
       "\n",
       "    .dataframe tbody tr th {\n",
       "        vertical-align: top;\n",
       "    }\n",
       "\n",
       "    .dataframe thead th {\n",
       "        text-align: right;\n",
       "    }\n",
       "</style>\n",
       "<table border=\"1\" class=\"dataframe\">\n",
       "  <thead>\n",
       "    <tr style=\"text-align: right;\">\n",
       "      <th></th>\n",
       "      <th>external_author_id</th>\n",
       "      <th>author</th>\n",
       "      <th>content</th>\n",
       "      <th>region</th>\n",
       "      <th>language</th>\n",
       "      <th>publish_date</th>\n",
       "      <th>harvested_date</th>\n",
       "      <th>following</th>\n",
       "      <th>followers</th>\n",
       "      <th>updates</th>\n",
       "      <th>post_type</th>\n",
       "      <th>account_type</th>\n",
       "      <th>new_june_2018</th>\n",
       "      <th>retweet</th>\n",
       "      <th>account_category</th>\n",
       "    </tr>\n",
       "  </thead>\n",
       "  <tbody>\n",
       "    <tr>\n",
       "      <th>0</th>\n",
       "      <td>1.674084e+09</td>\n",
       "      <td>GAB1ALDANA</td>\n",
       "      <td>People are too toxic. I think I have people po...</td>\n",
       "      <td>United States</td>\n",
       "      <td>English</td>\n",
       "      <td>7/30/2016 20:15</td>\n",
       "      <td>7/30/2016 20:15</td>\n",
       "      <td>3395</td>\n",
       "      <td>2014</td>\n",
       "      <td>2150</td>\n",
       "      <td>RETWEET</td>\n",
       "      <td>Hashtager</td>\n",
       "      <td>0</td>\n",
       "      <td>1</td>\n",
       "      <td>HashtagGamer</td>\n",
       "    </tr>\n",
       "    <tr>\n",
       "      <th>1</th>\n",
       "      <td>1.674084e+09</td>\n",
       "      <td>GAB1ALDANA</td>\n",
       "      <td>#NowPlaying Don't Shoot (I'm a Man) by @DEVO -...</td>\n",
       "      <td>United States</td>\n",
       "      <td>English</td>\n",
       "      <td>7/30/2016 20:15</td>\n",
       "      <td>7/30/2016 20:15</td>\n",
       "      <td>3395</td>\n",
       "      <td>2014</td>\n",
       "      <td>2146</td>\n",
       "      <td>RETWEET</td>\n",
       "      <td>Hashtager</td>\n",
       "      <td>0</td>\n",
       "      <td>1</td>\n",
       "      <td>HashtagGamer</td>\n",
       "    </tr>\n",
       "    <tr>\n",
       "      <th>2</th>\n",
       "      <td>1.674084e+09</td>\n",
       "      <td>GAB1ALDANA</td>\n",
       "      <td>the 'I'm the most boring person in the world' ...</td>\n",
       "      <td>United States</td>\n",
       "      <td>English</td>\n",
       "      <td>7/30/2016 20:16</td>\n",
       "      <td>7/30/2016 20:16</td>\n",
       "      <td>3395</td>\n",
       "      <td>2013</td>\n",
       "      <td>2159</td>\n",
       "      <td>RETWEET</td>\n",
       "      <td>Hashtager</td>\n",
       "      <td>0</td>\n",
       "      <td>1</td>\n",
       "      <td>HashtagGamer</td>\n",
       "    </tr>\n",
       "    <tr>\n",
       "      <th>4</th>\n",
       "      <td>1.674084e+09</td>\n",
       "      <td>GAB1ALDANA</td>\n",
       "      <td>#MyAchillesHeel Boring narcissists.....nothing...</td>\n",
       "      <td>United States</td>\n",
       "      <td>English</td>\n",
       "      <td>7/30/2016 20:16</td>\n",
       "      <td>7/30/2016 20:16</td>\n",
       "      <td>3395</td>\n",
       "      <td>2013</td>\n",
       "      <td>2158</td>\n",
       "      <td>RETWEET</td>\n",
       "      <td>Hashtager</td>\n",
       "      <td>0</td>\n",
       "      <td>1</td>\n",
       "      <td>HashtagGamer</td>\n",
       "    </tr>\n",
       "    <tr>\n",
       "      <th>5</th>\n",
       "      <td>1.674084e+09</td>\n",
       "      <td>GAB1ALDANA</td>\n",
       "      <td>Your opinion on Hillary really matters to a no...</td>\n",
       "      <td>United States</td>\n",
       "      <td>English</td>\n",
       "      <td>7/30/2016 20:16</td>\n",
       "      <td>7/30/2016 20:16</td>\n",
       "      <td>3395</td>\n",
       "      <td>2014</td>\n",
       "      <td>2154</td>\n",
       "      <td>RETWEET</td>\n",
       "      <td>Hashtager</td>\n",
       "      <td>0</td>\n",
       "      <td>1</td>\n",
       "      <td>HashtagGamer</td>\n",
       "    </tr>\n",
       "  </tbody>\n",
       "</table>\n",
       "</div>"
      ],
      "text/plain": [
       "   external_author_id      author  \\\n",
       "0        1.674084e+09  GAB1ALDANA   \n",
       "1        1.674084e+09  GAB1ALDANA   \n",
       "2        1.674084e+09  GAB1ALDANA   \n",
       "4        1.674084e+09  GAB1ALDANA   \n",
       "5        1.674084e+09  GAB1ALDANA   \n",
       "\n",
       "                                             content         region language  \\\n",
       "0  People are too toxic. I think I have people po...  United States  English   \n",
       "1  #NowPlaying Don't Shoot (I'm a Man) by @DEVO -...  United States  English   \n",
       "2  the 'I'm the most boring person in the world' ...  United States  English   \n",
       "4  #MyAchillesHeel Boring narcissists.....nothing...  United States  English   \n",
       "5  Your opinion on Hillary really matters to a no...  United States  English   \n",
       "\n",
       "      publish_date   harvested_date  following  followers  updates post_type  \\\n",
       "0  7/30/2016 20:15  7/30/2016 20:15       3395       2014     2150   RETWEET   \n",
       "1  7/30/2016 20:15  7/30/2016 20:15       3395       2014     2146   RETWEET   \n",
       "2  7/30/2016 20:16  7/30/2016 20:16       3395       2013     2159   RETWEET   \n",
       "4  7/30/2016 20:16  7/30/2016 20:16       3395       2013     2158   RETWEET   \n",
       "5  7/30/2016 20:16  7/30/2016 20:16       3395       2014     2154   RETWEET   \n",
       "\n",
       "  account_type  new_june_2018  retweet account_category  \n",
       "0    Hashtager              0        1     HashtagGamer  \n",
       "1    Hashtager              0        1     HashtagGamer  \n",
       "2    Hashtager              0        1     HashtagGamer  \n",
       "4    Hashtager              0        1     HashtagGamer  \n",
       "5    Hashtager              0        1     HashtagGamer  "
      ]
     },
     "execution_count": 11,
     "metadata": {},
     "output_type": "execute_result"
    }
   ],
   "source": [
    "# Keep only english tweets\n",
    "english_df = kaggle_df[kaggle_df['language'].astype(str).str.contains('English')]\n",
    "english_df.head()"
   ]
  },
  {
   "cell_type": "code",
   "execution_count": 12,
   "metadata": {},
   "outputs": [
    {
     "name": "stdout",
     "output_type": "stream",
     "text": [
      "Previous time interval is : 1/1/2013 16:16 -> 9/9/2017 7:26\n",
      "New time interval is : 11/8/2015 0:00 -> 11/8/2016 23:59\n",
      "0.26764203981 % of the dataframe have been kept\n"
     ]
    }
   ],
   "source": [
    "# Keep only interesting time interval\n",
    "start_date = '11/8/2015 00:00'\n",
    "end_date = '11/8/2016 23:59'\n",
    "\n",
    "print('Previous time interval is : {} -> {}'.format(english_df['publish_date'].min(), \\\n",
    "                                                    english_df['publish_date'].max()))\n",
    "\n",
    "old_N = english_df.shape[0]\n",
    "\n",
    "english_df = english_df[english_df['publish_date'] <= end_date]\n",
    "english_df = english_df[english_df['publish_date'] >= start_date]\n",
    "\n",
    "print('New time interval is : {} -> {}'.format(english_df['publish_date'].min(), \\\n",
    "                                               english_df['publish_date'].max()))\n",
    "new_N = english_df.shape[0]\n",
    "print('{} % of the dataframe have been kept'.format(float(new_N)/float(old_N)*100))"
   ]
  },
  {
   "cell_type": "code",
   "execution_count": 13,
   "metadata": {},
   "outputs": [
    {
     "data": {
      "text/html": [
       "<div>\n",
       "<style scoped>\n",
       "    .dataframe tbody tr th:only-of-type {\n",
       "        vertical-align: middle;\n",
       "    }\n",
       "\n",
       "    .dataframe tbody tr th {\n",
       "        vertical-align: top;\n",
       "    }\n",
       "\n",
       "    .dataframe thead th {\n",
       "        text-align: right;\n",
       "    }\n",
       "</style>\n",
       "<table border=\"1\" class=\"dataframe\">\n",
       "  <thead>\n",
       "    <tr style=\"text-align: right;\">\n",
       "      <th></th>\n",
       "      <th>external_author_id</th>\n",
       "      <th>author</th>\n",
       "      <th>content</th>\n",
       "      <th>region</th>\n",
       "      <th>language</th>\n",
       "      <th>publish_date</th>\n",
       "      <th>harvested_date</th>\n",
       "      <th>following</th>\n",
       "      <th>followers</th>\n",
       "      <th>updates</th>\n",
       "      <th>post_type</th>\n",
       "      <th>account_type</th>\n",
       "      <th>new_june_2018</th>\n",
       "      <th>retweet</th>\n",
       "      <th>account_category</th>\n",
       "    </tr>\n",
       "  </thead>\n",
       "  <tbody>\n",
       "    <tr>\n",
       "      <th>2358</th>\n",
       "      <td>1.504356e+09</td>\n",
       "      <td>GALLOWAYELIANA</td>\n",
       "      <td>'@mybatonrouge watch a video recap from lsu's ...</td>\n",
       "      <td>United States</td>\n",
       "      <td>English</td>\n",
       "      <td>11/8/2015 23:57</td>\n",
       "      <td>11/8/2015 23:57</td>\n",
       "      <td>724</td>\n",
       "      <td>294</td>\n",
       "      <td>797</td>\n",
       "      <td>NaN</td>\n",
       "      <td>left</td>\n",
       "      <td>0</td>\n",
       "      <td>0</td>\n",
       "      <td>LeftTroll</td>\n",
       "    </tr>\n",
       "    <tr>\n",
       "      <th>6157</th>\n",
       "      <td>1.660771e+09</td>\n",
       "      <td>GARRETTSIMPSON_</td>\n",
       "      <td>saeb erekat admits that #palestine\" is a troja...</td>\n",
       "      <td>United States</td>\n",
       "      <td>English</td>\n",
       "      <td>11/8/2016 15:18</td>\n",
       "      <td>11/8/2016 15:18</td>\n",
       "      <td>1339</td>\n",
       "      <td>1584</td>\n",
       "      <td>2256</td>\n",
       "      <td>RETWEET</td>\n",
       "      <td>Right</td>\n",
       "      <td>0</td>\n",
       "      <td>1</td>\n",
       "      <td>RightTroll</td>\n",
       "    </tr>\n",
       "    <tr>\n",
       "      <th>6158</th>\n",
       "      <td>1.660771e+09</td>\n",
       "      <td>GARRETTSIMPSON_</td>\n",
       "      <td>wikileaks: no link between trump &amp; russia no l...</td>\n",
       "      <td>United States</td>\n",
       "      <td>English</td>\n",
       "      <td>11/8/2016 15:18</td>\n",
       "      <td>11/8/2016 15:19</td>\n",
       "      <td>1339</td>\n",
       "      <td>1584</td>\n",
       "      <td>2260</td>\n",
       "      <td>RETWEET</td>\n",
       "      <td>Right</td>\n",
       "      <td>0</td>\n",
       "      <td>1</td>\n",
       "      <td>RightTroll</td>\n",
       "    </tr>\n",
       "    <tr>\n",
       "      <th>6159</th>\n",
       "      <td>1.660771e+09</td>\n",
       "      <td>GARRETTSIMPSON_</td>\n",
       "      <td>'@downbyseashore @tbobcat9 @r4randall1     ahh...</td>\n",
       "      <td>United States</td>\n",
       "      <td>English</td>\n",
       "      <td>11/8/2016 15:18</td>\n",
       "      <td>11/8/2016 15:18</td>\n",
       "      <td>1339</td>\n",
       "      <td>1584</td>\n",
       "      <td>2259</td>\n",
       "      <td>RETWEET</td>\n",
       "      <td>Right</td>\n",
       "      <td>0</td>\n",
       "      <td>1</td>\n",
       "      <td>RightTroll</td>\n",
       "    </tr>\n",
       "    <tr>\n",
       "      <th>6160</th>\n",
       "      <td>1.660771e+09</td>\n",
       "      <td>GARRETTSIMPSON_</td>\n",
       "      <td>may kek watch over you and ride onward with yo...</td>\n",
       "      <td>United States</td>\n",
       "      <td>English</td>\n",
       "      <td>11/8/2016 15:18</td>\n",
       "      <td>11/8/2016 15:18</td>\n",
       "      <td>1339</td>\n",
       "      <td>1584</td>\n",
       "      <td>2258</td>\n",
       "      <td>RETWEET</td>\n",
       "      <td>Right</td>\n",
       "      <td>0</td>\n",
       "      <td>1</td>\n",
       "      <td>RightTroll</td>\n",
       "    </tr>\n",
       "  </tbody>\n",
       "</table>\n",
       "</div>"
      ],
      "text/plain": [
       "      external_author_id           author  \\\n",
       "2358        1.504356e+09   GALLOWAYELIANA   \n",
       "6157        1.660771e+09  GARRETTSIMPSON_   \n",
       "6158        1.660771e+09  GARRETTSIMPSON_   \n",
       "6159        1.660771e+09  GARRETTSIMPSON_   \n",
       "6160        1.660771e+09  GARRETTSIMPSON_   \n",
       "\n",
       "                                                content         region  \\\n",
       "2358  '@mybatonrouge watch a video recap from lsu's ...  United States   \n",
       "6157  saeb erekat admits that #palestine\" is a troja...  United States   \n",
       "6158  wikileaks: no link between trump & russia no l...  United States   \n",
       "6159  '@downbyseashore @tbobcat9 @r4randall1     ahh...  United States   \n",
       "6160  may kek watch over you and ride onward with yo...  United States   \n",
       "\n",
       "     language     publish_date   harvested_date  following  followers  \\\n",
       "2358  English  11/8/2015 23:57  11/8/2015 23:57        724        294   \n",
       "6157  English  11/8/2016 15:18  11/8/2016 15:18       1339       1584   \n",
       "6158  English  11/8/2016 15:18  11/8/2016 15:19       1339       1584   \n",
       "6159  English  11/8/2016 15:18  11/8/2016 15:18       1339       1584   \n",
       "6160  English  11/8/2016 15:18  11/8/2016 15:18       1339       1584   \n",
       "\n",
       "      updates post_type account_type  new_june_2018  retweet account_category  \n",
       "2358      797       NaN         left              0        0        LeftTroll  \n",
       "6157     2256   RETWEET        Right              0        1       RightTroll  \n",
       "6158     2260   RETWEET        Right              0        1       RightTroll  \n",
       "6159     2259   RETWEET        Right              0        1       RightTroll  \n",
       "6160     2258   RETWEET        Right              0        1       RightTroll  "
      ]
     },
     "execution_count": 13,
     "metadata": {},
     "output_type": "execute_result"
    }
   ],
   "source": [
    "# Separate one word sentences and cast it to lowercase characters\n",
    "#english_df['content'] = english_df.apply(lambda x : (' '.join(re.sub( r\"([A-Z])\", r\" \\1\", x['content']).split())).lower(), axis=1)\n",
    "#english_df['content'] = english_df.apply(lambda x : x['content'].lower(), axis=1)\n",
    "#english_df.head()\n",
    "# Only cast it to lowercase characters\n",
    "english_df['content'] = english_df.apply(lambda x : str(x['content']).lower(), axis=1)\n",
    "english_df.head()"
   ]
  },
  {
   "cell_type": "code",
   "execution_count": 19,
   "metadata": {},
   "outputs": [
    {
     "data": {
      "text/plain": [
       "0"
      ]
     },
     "execution_count": 19,
     "metadata": {},
     "output_type": "execute_result"
    }
   ],
   "source": [
    "english_df.loc[english_df['post_type'].isnull(),'retweet'].sum()"
   ]
  },
  {
   "cell_type": "code",
   "execution_count": 16,
   "metadata": {},
   "outputs": [
    {
     "data": {
      "text/plain": [
       "0"
      ]
     },
     "execution_count": 16,
     "metadata": {},
     "output_type": "execute_result"
    }
   ],
   "source": [
    "english_df.loc[english_df['post_type'] == ,'retweet'].sum()"
   ]
  },
  {
   "cell_type": "markdown",
   "metadata": {},
   "source": [
    "### 5.2 Twitter dataset"
   ]
  },
  {
   "cell_type": "code",
   "execution_count": 41,
   "metadata": {},
   "outputs": [
    {
     "data": {
      "text/html": [
       "<div>\n",
       "<style scoped>\n",
       "    .dataframe tbody tr th:only-of-type {\n",
       "        vertical-align: middle;\n",
       "    }\n",
       "\n",
       "    .dataframe tbody tr th {\n",
       "        vertical-align: top;\n",
       "    }\n",
       "\n",
       "    .dataframe thead th {\n",
       "        text-align: right;\n",
       "    }\n",
       "</style>\n",
       "<table border=\"1\" class=\"dataframe\">\n",
       "  <thead>\n",
       "    <tr style=\"text-align: right;\">\n",
       "      <th></th>\n",
       "      <th>tweetid</th>\n",
       "      <th>userid</th>\n",
       "      <th>tweet_language</th>\n",
       "      <th>tweet_time</th>\n",
       "      <th>tweet_text</th>\n",
       "      <th>in_reply_to_tweetid</th>\n",
       "      <th>is_retweet</th>\n",
       "      <th>retweet_count</th>\n",
       "    </tr>\n",
       "  </thead>\n",
       "  <tbody>\n",
       "    <tr>\n",
       "      <th>8</th>\n",
       "      <td>567357519547207680</td>\n",
       "      <td>2b0d7525bed1df5119b7956f9be4888b45686172d68006...</td>\n",
       "      <td>en</td>\n",
       "      <td>2015-02-16 16:19</td>\n",
       "      <td>As sun and cloud give way to moon and shadow, ...</td>\n",
       "      <td>NaN</td>\n",
       "      <td>False</td>\n",
       "      <td>0.0</td>\n",
       "    </tr>\n",
       "    <tr>\n",
       "      <th>10</th>\n",
       "      <td>493894187079974912</td>\n",
       "      <td>be1e8e099e93fe0964c1184173f038c7413def3baf38ef...</td>\n",
       "      <td>en</td>\n",
       "      <td>2014-07-28 23:02</td>\n",
       "      <td>Down in the comfort of strangers, I...</td>\n",
       "      <td>NaN</td>\n",
       "      <td>False</td>\n",
       "      <td>0.0</td>\n",
       "    </tr>\n",
       "    <tr>\n",
       "      <th>11</th>\n",
       "      <td>493688319902220288</td>\n",
       "      <td>be1e8e099e93fe0964c1184173f038c7413def3baf38ef...</td>\n",
       "      <td>en</td>\n",
       "      <td>2014-07-28 09:24</td>\n",
       "      <td>Im laughing more than i should #USA</td>\n",
       "      <td>NaN</td>\n",
       "      <td>False</td>\n",
       "      <td>0.0</td>\n",
       "    </tr>\n",
       "    <tr>\n",
       "      <th>12</th>\n",
       "      <td>497543470211678209</td>\n",
       "      <td>be1e8e099e93fe0964c1184173f038c7413def3baf38ef...</td>\n",
       "      <td>en</td>\n",
       "      <td>2014-08-08 00:43</td>\n",
       "      <td>No, I'm not saying I'm sorry</td>\n",
       "      <td>NaN</td>\n",
       "      <td>False</td>\n",
       "      <td>0.0</td>\n",
       "    </tr>\n",
       "    <tr>\n",
       "      <th>32</th>\n",
       "      <td>500956712657223680</td>\n",
       "      <td>004c1875a5f3a8ddfd2044b857a81c5d458882ac5cdf67...</td>\n",
       "      <td>en</td>\n",
       "      <td>2014-08-17 10:46</td>\n",
       "      <td>Laugh it all off in your face</td>\n",
       "      <td>NaN</td>\n",
       "      <td>False</td>\n",
       "      <td>0.0</td>\n",
       "    </tr>\n",
       "  </tbody>\n",
       "</table>\n",
       "</div>"
      ],
      "text/plain": [
       "               tweetid                                             userid  \\\n",
       "8   567357519547207680  2b0d7525bed1df5119b7956f9be4888b45686172d68006...   \n",
       "10  493894187079974912  be1e8e099e93fe0964c1184173f038c7413def3baf38ef...   \n",
       "11  493688319902220288  be1e8e099e93fe0964c1184173f038c7413def3baf38ef...   \n",
       "12  497543470211678209  be1e8e099e93fe0964c1184173f038c7413def3baf38ef...   \n",
       "32  500956712657223680  004c1875a5f3a8ddfd2044b857a81c5d458882ac5cdf67...   \n",
       "\n",
       "   tweet_language        tweet_time  \\\n",
       "8              en  2015-02-16 16:19   \n",
       "10             en  2014-07-28 23:02   \n",
       "11             en  2014-07-28 09:24   \n",
       "12             en  2014-08-08 00:43   \n",
       "32             en  2014-08-17 10:46   \n",
       "\n",
       "                                           tweet_text  in_reply_to_tweetid  \\\n",
       "8   As sun and cloud give way to moon and shadow, ...                  NaN   \n",
       "10             Down in the comfort of strangers, I...                  NaN   \n",
       "11                Im laughing more than i should #USA                  NaN   \n",
       "12                       No, I'm not saying I'm sorry                  NaN   \n",
       "32                      Laugh it all off in your face                  NaN   \n",
       "\n",
       "    is_retweet  retweet_count  \n",
       "8        False            0.0  \n",
       "10       False            0.0  \n",
       "11       False            0.0  \n",
       "12       False            0.0  \n",
       "32       False            0.0  "
      ]
     },
     "execution_count": 41,
     "metadata": {},
     "output_type": "execute_result"
    }
   ],
   "source": [
    "# Select only english tweets\n",
    "english_new_df = new_df.loc[new_df['tweet_language'] == 'en']\n",
    "english_new_df.head()"
   ]
  },
  {
   "cell_type": "code",
   "execution_count": 47,
   "metadata": {},
   "outputs": [
    {
     "name": "stdout",
     "output_type": "stream",
     "text": [
      "Previous time interval is : 2009-05-09 15:59 -> 2018-06-21 14:32\n",
      "New time interval is : 2015-11-08 00:01 -> 2016-11-08 23:59\n",
      "8.89732989961 % of the dataframe have been kept\n"
     ]
    }
   ],
   "source": [
    "# Keep only interesting time interval\n",
    "start_date = '2015-11-08 00:00'\n",
    "end_date = '2016-11-08 23:59'\n",
    "\n",
    "print('Previous time interval is : {} -> {}'.format(new_df['tweet_time'].min(), \\\n",
    "                                                    new_df['tweet_time'].max()))\n",
    "\n",
    "old_N = new_df.shape[0]\n",
    "\n",
    "english_new_df = english_new_df[english_new_df['tweet_time'] <= end_date]\n",
    "english_new_df = english_new_df[english_new_df['tweet_time'] >= start_date]\n",
    "\n",
    "print('New time interval is : {} -> {}'.format(english_new_df['tweet_time'].min(), \\\n",
    "                                               english_new_df['tweet_time'].max()))\n",
    "new_N = english_new_df.shape[0]\n",
    "print('{} % of the dataframe have been kept'.format(float(new_N)/float(old_N)*100))"
   ]
  },
  {
   "cell_type": "code",
   "execution_count": 48,
   "metadata": {},
   "outputs": [
    {
     "data": {
      "text/html": [
       "<div>\n",
       "<style scoped>\n",
       "    .dataframe tbody tr th:only-of-type {\n",
       "        vertical-align: middle;\n",
       "    }\n",
       "\n",
       "    .dataframe tbody tr th {\n",
       "        vertical-align: top;\n",
       "    }\n",
       "\n",
       "    .dataframe thead th {\n",
       "        text-align: right;\n",
       "    }\n",
       "</style>\n",
       "<table border=\"1\" class=\"dataframe\">\n",
       "  <thead>\n",
       "    <tr style=\"text-align: right;\">\n",
       "      <th></th>\n",
       "      <th>tweetid</th>\n",
       "      <th>userid</th>\n",
       "      <th>tweet_language</th>\n",
       "      <th>tweet_time</th>\n",
       "      <th>tweet_text</th>\n",
       "      <th>in_reply_to_tweetid</th>\n",
       "      <th>is_retweet</th>\n",
       "      <th>retweet_count</th>\n",
       "    </tr>\n",
       "  </thead>\n",
       "  <tbody>\n",
       "    <tr>\n",
       "      <th>103</th>\n",
       "      <td>784084336307863552</td>\n",
       "      <td>8e58ab0f46d273103d9e71aa92cdaffb6e330ec7d15ae5...</td>\n",
       "      <td>en</td>\n",
       "      <td>2016-10-06 17:34</td>\n",
       "      <td>rt @herobright2: @unhumanrights nigeria cries ...</td>\n",
       "      <td>NaN</td>\n",
       "      <td>True</td>\n",
       "      <td>0.0</td>\n",
       "    </tr>\n",
       "    <tr>\n",
       "      <th>104</th>\n",
       "      <td>703231561299136512</td>\n",
       "      <td>8e58ab0f46d273103d9e71aa92cdaffb6e330ec7d15ae5...</td>\n",
       "      <td>en</td>\n",
       "      <td>2016-02-26 14:54</td>\n",
       "      <td>rt @74c5eb30de3d6691e150879ee8528463c70b0feaef...</td>\n",
       "      <td>NaN</td>\n",
       "      <td>True</td>\n",
       "      <td>0.0</td>\n",
       "    </tr>\n",
       "    <tr>\n",
       "      <th>110</th>\n",
       "      <td>681897201761697792</td>\n",
       "      <td>2882331822</td>\n",
       "      <td>en</td>\n",
       "      <td>2015-12-29 17:58</td>\n",
       "      <td>muslims can't even coexist with muslims why do...</td>\n",
       "      <td>NaN</td>\n",
       "      <td>False</td>\n",
       "      <td>610.0</td>\n",
       "    </tr>\n",
       "    <tr>\n",
       "      <th>112</th>\n",
       "      <td>668044460224188416</td>\n",
       "      <td>2882331822</td>\n",
       "      <td>en</td>\n",
       "      <td>2015-11-21 12:33</td>\n",
       "      <td>and who will determine what exactly is #offens...</td>\n",
       "      <td>NaN</td>\n",
       "      <td>False</td>\n",
       "      <td>12.0</td>\n",
       "    </tr>\n",
       "    <tr>\n",
       "      <th>115</th>\n",
       "      <td>728636801242566657</td>\n",
       "      <td>2882331822</td>\n",
       "      <td>en</td>\n",
       "      <td>2016-05-06 17:25</td>\n",
       "      <td>you know that fat girls who believe in #bodyac...</td>\n",
       "      <td>NaN</td>\n",
       "      <td>False</td>\n",
       "      <td>34.0</td>\n",
       "    </tr>\n",
       "  </tbody>\n",
       "</table>\n",
       "</div>"
      ],
      "text/plain": [
       "                tweetid                                             userid  \\\n",
       "103  784084336307863552  8e58ab0f46d273103d9e71aa92cdaffb6e330ec7d15ae5...   \n",
       "104  703231561299136512  8e58ab0f46d273103d9e71aa92cdaffb6e330ec7d15ae5...   \n",
       "110  681897201761697792                                         2882331822   \n",
       "112  668044460224188416                                         2882331822   \n",
       "115  728636801242566657                                         2882331822   \n",
       "\n",
       "    tweet_language        tweet_time  \\\n",
       "103             en  2016-10-06 17:34   \n",
       "104             en  2016-02-26 14:54   \n",
       "110             en  2015-12-29 17:58   \n",
       "112             en  2015-11-21 12:33   \n",
       "115             en  2016-05-06 17:25   \n",
       "\n",
       "                                            tweet_text  in_reply_to_tweetid  \\\n",
       "103  rt @herobright2: @unhumanrights nigeria cries ...                  NaN   \n",
       "104  rt @74c5eb30de3d6691e150879ee8528463c70b0feaef...                  NaN   \n",
       "110  muslims can't even coexist with muslims why do...                  NaN   \n",
       "112  and who will determine what exactly is #offens...                  NaN   \n",
       "115  you know that fat girls who believe in #bodyac...                  NaN   \n",
       "\n",
       "     is_retweet  retweet_count  \n",
       "103        True            0.0  \n",
       "104        True            0.0  \n",
       "110       False          610.0  \n",
       "112       False           12.0  \n",
       "115       False           34.0  "
      ]
     },
     "execution_count": 48,
     "metadata": {},
     "output_type": "execute_result"
    }
   ],
   "source": [
    "# Only cast it to lowercase characters\n",
    "english_new_df['tweet_text'] = english_new_df.apply(lambda x : str(x['tweet_text']).lower(), axis=1)\n",
    "english_new_df.head()"
   ]
  },
  {
   "cell_type": "markdown",
   "metadata": {},
   "source": [
    "## 6. Analysis part"
   ]
  },
  {
   "cell_type": "markdown",
   "metadata": {},
   "source": [
    "### 6.1. Scandale research"
   ]
  },
  {
   "cell_type": "markdown",
   "metadata": {},
   "source": [
    "As seen in the introduction, we have seen different scandale in which we are interested. Therefore, we will study the following hashtags or keywords :\n",
    "* Hillary Clinton's Email scandale : ['hillary' 'mail'] or ['clinton' 'mail']\n",
    "* Hillary Clinton's malaise : ['hillary' 'malaise'] or ['hillary' 'faint'] or ['clinton' 'malaise'] or ['clinton' 'faint']\n",
    "* Hillary insulting Trump's voter : ['hillary' 'insult' 'trump' 'elector'] or ['hillary' 'insult' 'trump' 'elector']\n",
    "* Pizzagate scandale : ['pizzagate']\n",
    "* Donald Trump's bankruptcy : '[trump' 'bankruptcy'] or ['donald' 'bankruptcy']\n",
    "* Donald Trump's taxes : ['trump' 'taxe'] or ['donald' 'taxe']\n",
    "* Donald Trump's sexist tape : ['trump' 'sexist' 'tape'] or ['donald' 'sexist' 'tape']\n",
    "* Donald Trump insulting the army chief's father : ['trump' 'army' 'father'] or ['trump' 'khan'] or ['donald' 'army' 'father'] or ['donald' 'khan']\n",
    "\n",
    "To see the impact of each scandale, we will look for different results :\n",
    "* Time on which all the quote tweet were published (distribution in time)\n",
    "* Showing the 10 most active user that tweeted something about him during the time period\n",
    "* For the 10 most viral tweets, show how the number of retweet evolved in function off the time\n",
    "* The number of tweets corresponding to the each account category\n",
    "* TBD\n",
    "\n",
    "#### 6.1.1 Kaggle dataset"
   ]
  },
  {
   "cell_type": "code",
   "execution_count": 284,
   "metadata": {},
   "outputs": [],
   "source": [
    "def analyze_scandale_kaggle(dataframe, keywords) :\n",
    "    scandale_df = dataframe.copy()\n",
    "    for keyword in keywords :\n",
    "        scandale_df = scandale_df[scandale_df['content'].astype(str).str.contains(keyword)]\n",
    "\n",
    "    #scandale_df.shape\n",
    "    if scandale_df.shape[0] != 0 :\n",
    "        scandale_df['date'] = pd.to_datetime(scandale_df['publish_date'], format='%m/%d/%Y %H:%M').dt.week\n",
    "        time_evolution = scandale_df[['date', 'content']].groupby('date').count()\n",
    "        time_evolution.plot.bar()\n",
    "        #plt.show()\n",
    "    else :\n",
    "        print('No text containing the following keywords : {}'.format(keywords))\n",
    "        \n",
    "    #return(time_evolution)"
   ]
  },
  {
   "cell_type": "code",
   "execution_count": 303,
   "metadata": {},
   "outputs": [
    {
     "data": {
      "image/png": "[encoded data removed]",
      "text/plain": [
       "<Figure size 432x288 with 1 Axes>"
      ]
     },
     "metadata": {
      "needs_background": "light"
     },
     "output_type": "display_data"
    }
   ],
   "source": [
    "keywords = ['pizzagate']\n",
    "\n",
    "analyze_scandale_kaggle(english_df, keywords)"
   ]
  },
  {
   "cell_type": "code",
   "execution_count": 43,
   "metadata": {},
   "outputs": [
    {
     "data": {
      "text/plain": [
       "\"quote_tweet_df = english_df[english_df['retweet'] == 0]\\nretweet_df = english_df[english_df['retweet'] == 1]\\n\\nkeywords = ['pizzagate']\\n\\nscandale_quote_df = quote_tweet_df.copy()\\nfor keyword in keywords :\\n    scandale_quote_df = scandale_quote_df[scandale_quote_df['content'].astype(str).str.contains(keyword)]\\n\\nscandale_quote_df['content'].unique().shape\\n\\n\\nscandale_retweet_df = retweet_df.copy()\\nfor keyword in keywords :\\n    scandale_retweet_df = scandale_retweet_df[scandale_retweet_df['content'].astype(str).str.contains(keyword)]\\n\\nscandale_retweet_df['content'].unique().shape\""
      ]
     },
     "execution_count": 43,
     "metadata": {},
     "output_type": "execute_result"
    }
   ],
   "source": [
    "\"\"\"quote_tweet_df = english_df[english_df['retweet'] == 0]\n",
    "retweet_df = english_df[english_df['retweet'] == 1]\n",
    "\n",
    "keywords = ['pizzagate']\n",
    "\n",
    "scandale_quote_df = quote_tweet_df.copy()\n",
    "for keyword in keywords :\n",
    "    scandale_quote_df = scandale_quote_df[scandale_quote_df['content'].astype(str).str.contains(keyword)]\n",
    "\n",
    "scandale_quote_df['content'].unique().shape\n",
    "\n",
    "\n",
    "scandale_retweet_df = retweet_df.copy()\n",
    "for keyword in keywords :\n",
    "    scandale_retweet_df = scandale_retweet_df[scandale_retweet_df['content'].astype(str).str.contains(keyword)]\n",
    "\n",
    "scandale_retweet_df['content'].unique().shape\"\"\""
   ]
  },
  {
   "cell_type": "markdown",
   "metadata": {},
   "source": [
    "#### 6.1.2 Twitter dataset"
   ]
  },
  {
   "cell_type": "code",
   "execution_count": 269,
   "metadata": {},
   "outputs": [],
   "source": [
    "def analyze_scandale(dataframe, keywords) :\n",
    "    scandale_df = dataframe.copy()\n",
    "    for keyword in keywords :\n",
    "        scandale_df = scandale_df[scandale_df['tweet_text'].astype(str).str.contains(keyword)]\n",
    "\n",
    "    #scandale_df.shape\n",
    "    if scandale_df.shape[0] != 0 :\n",
    "        scandale_df['date'] = pd.to_datetime(scandale_df['tweet_time'], format='%Y/%m/%d %H:%M').dt.week\n",
    "        time_evolution = scandale_df[['date', 'tweet_text']].groupby('date').count()\n",
    "        time_evolution.plot.bar()\n",
    "        #plt.show()\n",
    "    else :\n",
    "        print('No text containing the following keywords : {}'.format(keywords))\n",
    "        \n",
    "    #return(time_evolution)"
   ]
  },
  {
   "cell_type": "code",
   "execution_count": 272,
   "metadata": {},
   "outputs": [
    {
     "data": {
      "image/png": "[encoded data removed]",
      "text/plain": [
       "<Figure size 432x288 with 1 Axes>"
      ]
     },
     "metadata": {
      "needs_background": "light"
     },
     "output_type": "display_data"
    }
   ],
   "source": [
    "keywords = ['hillary', 'mail']\n",
    "\n",
    "analyze_scandale(english_new_df, keywords)"
   ]
  },
  {
   "cell_type": "code",
   "execution_count": 304,
   "metadata": {},
   "outputs": [
    {
     "data": {
      "image/png": "[encoded data removed]",
      "text/plain": [
       "<Figure size 432x288 with 1 Axes>"
      ]
     },
     "metadata": {
      "needs_background": "light"
     },
     "output_type": "display_data"
    }
   ],
   "source": [
    "keywords = ['pizzagate']\n",
    "\n",
    "analyze_scandale(english_new_df, keywords)"
   ]
  },
  {
   "cell_type": "code",
   "execution_count": 274,
   "metadata": {},
   "outputs": [
    {
     "data": {
      "image/png": "[encoded data removed]",
      "text/plain": [
       "<Figure size 432x288 with 1 Axes>"
      ]
     },
     "metadata": {
      "needs_background": "light"
     },
     "output_type": "display_data"
    }
   ],
   "source": [
    "keywords = ['trump', 'taxes']\n",
    "analyze_scandale(english_new_df, keywords)"
   ]
  },
  {
   "cell_type": "code",
   "execution_count": 275,
   "metadata": {},
   "outputs": [
    {
     "name": "stdout",
     "output_type": "stream",
     "text": [
      "No text containing the following keywords : ['clinton', 'malaise']\n"
     ]
    }
   ],
   "source": [
    "keywords = ['clinton', 'malaise']\n",
    "analyze_scandale(english_new_df, keywords)"
   ]
  },
  {
   "cell_type": "code",
   "execution_count": 276,
   "metadata": {},
   "outputs": [
    {
     "data": {
      "image/png": "[encoded data removed]",
      "text/plain": [
       "<Figure size 432x288 with 1 Axes>"
      ]
     },
     "metadata": {
      "needs_background": "light"
     },
     "output_type": "display_data"
    }
   ],
   "source": [
    "keywords = ['trump', 'tape']\n",
    "analyze_scandale(english_new_df, keywords)"
   ]
  }
 ],
 "metadata": {
  "kernelspec": {
   "display_name": "Python 3",
   "language": "python",
   "name": "python3"
  },
  "language_info": {
   "codemirror_mode": {
    "name": "ipython",
    "version": 3
   },
   "file_extension": ".py",
   "mimetype": "text/x-python",
   "name": "python",
   "nbconvert_exporter": "python",
   "pygments_lexer": "ipython3",
   "version": "3.7.0"
  }
 },
 "nbformat": 4,
 "nbformat_minor": 2
}
